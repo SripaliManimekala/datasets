{
  "nbformat": 4,
  "nbformat_minor": 0,
  "metadata": {
    "colab": {
      "provenance": [],
      "collapsed_sections": [
        "Ph10fNXw-R5J",
        "aJGgJtizDJcL",
        "Z2hexkxyBaaH",
        "9lKG5nK3N0jX",
        "_kYKYYtqPFj_",
        "i5-w2j5XcZNU"
      ],
      "authorship_tag": "ABX9TyO0vs8XUh4i5EVsB2ZTiv/W",
      "include_colab_link": true
    },
    "kernelspec": {
      "name": "python3",
      "display_name": "Python 3"
    },
    "language_info": {
      "name": "python"
    }
  },
  "cells": [
    {
      "cell_type": "markdown",
      "metadata": {
        "id": "view-in-github",
        "colab_type": "text"
      },
      "source": [
        "<a href=\"https://colab.research.google.com/github/SripaliManimekala/datasets/blob/main/AS2019445_MLassignment.ipynb\" target=\"_parent\"><img src=\"https://colab.research.google.com/assets/colab-badge.svg\" alt=\"Open In Colab\"/></a>"
      ]
    },
    {
      "cell_type": "markdown",
      "source": [
        "# **Q1 - KNN MODEL**"
      ],
      "metadata": {
        "id": "8bWAikUV9GAg"
      }
    },
    {
      "cell_type": "markdown",
      "source": [
        "# importing dataset\n",
        "\n",
        "\n",
        "\n"
      ],
      "metadata": {
        "id": "rue3zWng8ivd"
      }
    },
    {
      "cell_type": "code",
      "source": [
        "import pandas as pd\n",
        "import numpy as np"
      ],
      "metadata": {
        "id": "vF8N_EzK8j4F"
      },
      "execution_count": 2413,
      "outputs": []
    },
    {
      "cell_type": "code",
      "source": [
        "url = 'https://raw.githubusercontent.com/SripaliManimekala/datasets/main/Mobile_Dataset.csv'\n",
        "dataset = pd.read_csv(url)"
      ],
      "metadata": {
        "id": "4Uou7jh_3Z-M"
      },
      "execution_count": 2414,
      "outputs": []
    },
    {
      "cell_type": "code",
      "source": [
        "dataset"
      ],
      "metadata": {
        "colab": {
          "base_uri": "https://localhost:8080/",
          "height": 488
        },
        "id": "ICQ4m6IN5-fh",
        "outputId": "bce56142-14bd-4988-bf1f-809b181555f0"
      },
      "execution_count": 2415,
      "outputs": [
        {
          "output_type": "execute_result",
          "data": {
            "text/plain": [
              "      battery_power  blue  clock_speed  dual_sim  fc  four_g  int_memory  \\\n",
              "0               842     0          2.2         0   1       0           7   \n",
              "1              1021     1          0.5         1   0       1          53   \n",
              "2               563     1          0.5         1   2       1          41   \n",
              "3               615     1          2.5         0   0       0          10   \n",
              "4              1821     1          1.2         0  13       1          44   \n",
              "...             ...   ...          ...       ...  ..     ...         ...   \n",
              "1995            794     1          0.5         1   0       1           2   \n",
              "1996           1965     1          2.6         1   0       0          39   \n",
              "1997           1911     0          0.9         1   1       1          36   \n",
              "1998           1512     0          0.9         0   4       1          46   \n",
              "1999            510     1          2.0         1   5       1          45   \n",
              "\n",
              "      m_dep  mobile_wt  n_cores  ...  px_height  px_width   ram  sc_h  sc_w  \\\n",
              "0       0.6        188        2  ...         20       756  2549     9     7   \n",
              "1       0.7        136        3  ...        905      1988  2631    17     3   \n",
              "2       0.9        145        5  ...       1263      1716  2603    11     2   \n",
              "3       0.8        131        6  ...       1216      1786  2769    16     8   \n",
              "4       0.6        141        2  ...       1208      1212  1411     8     2   \n",
              "...     ...        ...      ...  ...        ...       ...   ...   ...   ...   \n",
              "1995    0.8        106        6  ...       1222      1890   668    13     4   \n",
              "1996    0.2        187        4  ...        915      1965  2032    11    10   \n",
              "1997    0.7        108        8  ...        868      1632  3057     9     1   \n",
              "1998    0.1        145        5  ...        336       670   869    18    10   \n",
              "1999    0.9        168        6  ...        483       754  3919    19     4   \n",
              "\n",
              "      talk_time  three_g  touch_screen  wifi  price_range  \n",
              "0            19        0             0     1            1  \n",
              "1             7        1             1     0            2  \n",
              "2             9        1             1     0            2  \n",
              "3            11        1             0     0            2  \n",
              "4            15        1             1     0            1  \n",
              "...         ...      ...           ...   ...          ...  \n",
              "1995         19        1             1     0            0  \n",
              "1996         16        1             1     1            2  \n",
              "1997          5        1             1     0            3  \n",
              "1998         19        1             1     1            0  \n",
              "1999          2        1             1     1            3  \n",
              "\n",
              "[2000 rows x 21 columns]"
            ],
            "text/html": [
              "\n",
              "  <div id=\"df-84aa3990-f655-4e5d-8d3f-ea0913cb52bc\">\n",
              "    <div class=\"colab-df-container\">\n",
              "      <div>\n",
              "<style scoped>\n",
              "    .dataframe tbody tr th:only-of-type {\n",
              "        vertical-align: middle;\n",
              "    }\n",
              "\n",
              "    .dataframe tbody tr th {\n",
              "        vertical-align: top;\n",
              "    }\n",
              "\n",
              "    .dataframe thead th {\n",
              "        text-align: right;\n",
              "    }\n",
              "</style>\n",
              "<table border=\"1\" class=\"dataframe\">\n",
              "  <thead>\n",
              "    <tr style=\"text-align: right;\">\n",
              "      <th></th>\n",
              "      <th>battery_power</th>\n",
              "      <th>blue</th>\n",
              "      <th>clock_speed</th>\n",
              "      <th>dual_sim</th>\n",
              "      <th>fc</th>\n",
              "      <th>four_g</th>\n",
              "      <th>int_memory</th>\n",
              "      <th>m_dep</th>\n",
              "      <th>mobile_wt</th>\n",
              "      <th>n_cores</th>\n",
              "      <th>...</th>\n",
              "      <th>px_height</th>\n",
              "      <th>px_width</th>\n",
              "      <th>ram</th>\n",
              "      <th>sc_h</th>\n",
              "      <th>sc_w</th>\n",
              "      <th>talk_time</th>\n",
              "      <th>three_g</th>\n",
              "      <th>touch_screen</th>\n",
              "      <th>wifi</th>\n",
              "      <th>price_range</th>\n",
              "    </tr>\n",
              "  </thead>\n",
              "  <tbody>\n",
              "    <tr>\n",
              "      <th>0</th>\n",
              "      <td>842</td>\n",
              "      <td>0</td>\n",
              "      <td>2.2</td>\n",
              "      <td>0</td>\n",
              "      <td>1</td>\n",
              "      <td>0</td>\n",
              "      <td>7</td>\n",
              "      <td>0.6</td>\n",
              "      <td>188</td>\n",
              "      <td>2</td>\n",
              "      <td>...</td>\n",
              "      <td>20</td>\n",
              "      <td>756</td>\n",
              "      <td>2549</td>\n",
              "      <td>9</td>\n",
              "      <td>7</td>\n",
              "      <td>19</td>\n",
              "      <td>0</td>\n",
              "      <td>0</td>\n",
              "      <td>1</td>\n",
              "      <td>1</td>\n",
              "    </tr>\n",
              "    <tr>\n",
              "      <th>1</th>\n",
              "      <td>1021</td>\n",
              "      <td>1</td>\n",
              "      <td>0.5</td>\n",
              "      <td>1</td>\n",
              "      <td>0</td>\n",
              "      <td>1</td>\n",
              "      <td>53</td>\n",
              "      <td>0.7</td>\n",
              "      <td>136</td>\n",
              "      <td>3</td>\n",
              "      <td>...</td>\n",
              "      <td>905</td>\n",
              "      <td>1988</td>\n",
              "      <td>2631</td>\n",
              "      <td>17</td>\n",
              "      <td>3</td>\n",
              "      <td>7</td>\n",
              "      <td>1</td>\n",
              "      <td>1</td>\n",
              "      <td>0</td>\n",
              "      <td>2</td>\n",
              "    </tr>\n",
              "    <tr>\n",
              "      <th>2</th>\n",
              "      <td>563</td>\n",
              "      <td>1</td>\n",
              "      <td>0.5</td>\n",
              "      <td>1</td>\n",
              "      <td>2</td>\n",
              "      <td>1</td>\n",
              "      <td>41</td>\n",
              "      <td>0.9</td>\n",
              "      <td>145</td>\n",
              "      <td>5</td>\n",
              "      <td>...</td>\n",
              "      <td>1263</td>\n",
              "      <td>1716</td>\n",
              "      <td>2603</td>\n",
              "      <td>11</td>\n",
              "      <td>2</td>\n",
              "      <td>9</td>\n",
              "      <td>1</td>\n",
              "      <td>1</td>\n",
              "      <td>0</td>\n",
              "      <td>2</td>\n",
              "    </tr>\n",
              "    <tr>\n",
              "      <th>3</th>\n",
              "      <td>615</td>\n",
              "      <td>1</td>\n",
              "      <td>2.5</td>\n",
              "      <td>0</td>\n",
              "      <td>0</td>\n",
              "      <td>0</td>\n",
              "      <td>10</td>\n",
              "      <td>0.8</td>\n",
              "      <td>131</td>\n",
              "      <td>6</td>\n",
              "      <td>...</td>\n",
              "      <td>1216</td>\n",
              "      <td>1786</td>\n",
              "      <td>2769</td>\n",
              "      <td>16</td>\n",
              "      <td>8</td>\n",
              "      <td>11</td>\n",
              "      <td>1</td>\n",
              "      <td>0</td>\n",
              "      <td>0</td>\n",
              "      <td>2</td>\n",
              "    </tr>\n",
              "    <tr>\n",
              "      <th>4</th>\n",
              "      <td>1821</td>\n",
              "      <td>1</td>\n",
              "      <td>1.2</td>\n",
              "      <td>0</td>\n",
              "      <td>13</td>\n",
              "      <td>1</td>\n",
              "      <td>44</td>\n",
              "      <td>0.6</td>\n",
              "      <td>141</td>\n",
              "      <td>2</td>\n",
              "      <td>...</td>\n",
              "      <td>1208</td>\n",
              "      <td>1212</td>\n",
              "      <td>1411</td>\n",
              "      <td>8</td>\n",
              "      <td>2</td>\n",
              "      <td>15</td>\n",
              "      <td>1</td>\n",
              "      <td>1</td>\n",
              "      <td>0</td>\n",
              "      <td>1</td>\n",
              "    </tr>\n",
              "    <tr>\n",
              "      <th>...</th>\n",
              "      <td>...</td>\n",
              "      <td>...</td>\n",
              "      <td>...</td>\n",
              "      <td>...</td>\n",
              "      <td>...</td>\n",
              "      <td>...</td>\n",
              "      <td>...</td>\n",
              "      <td>...</td>\n",
              "      <td>...</td>\n",
              "      <td>...</td>\n",
              "      <td>...</td>\n",
              "      <td>...</td>\n",
              "      <td>...</td>\n",
              "      <td>...</td>\n",
              "      <td>...</td>\n",
              "      <td>...</td>\n",
              "      <td>...</td>\n",
              "      <td>...</td>\n",
              "      <td>...</td>\n",
              "      <td>...</td>\n",
              "      <td>...</td>\n",
              "    </tr>\n",
              "    <tr>\n",
              "      <th>1995</th>\n",
              "      <td>794</td>\n",
              "      <td>1</td>\n",
              "      <td>0.5</td>\n",
              "      <td>1</td>\n",
              "      <td>0</td>\n",
              "      <td>1</td>\n",
              "      <td>2</td>\n",
              "      <td>0.8</td>\n",
              "      <td>106</td>\n",
              "      <td>6</td>\n",
              "      <td>...</td>\n",
              "      <td>1222</td>\n",
              "      <td>1890</td>\n",
              "      <td>668</td>\n",
              "      <td>13</td>\n",
              "      <td>4</td>\n",
              "      <td>19</td>\n",
              "      <td>1</td>\n",
              "      <td>1</td>\n",
              "      <td>0</td>\n",
              "      <td>0</td>\n",
              "    </tr>\n",
              "    <tr>\n",
              "      <th>1996</th>\n",
              "      <td>1965</td>\n",
              "      <td>1</td>\n",
              "      <td>2.6</td>\n",
              "      <td>1</td>\n",
              "      <td>0</td>\n",
              "      <td>0</td>\n",
              "      <td>39</td>\n",
              "      <td>0.2</td>\n",
              "      <td>187</td>\n",
              "      <td>4</td>\n",
              "      <td>...</td>\n",
              "      <td>915</td>\n",
              "      <td>1965</td>\n",
              "      <td>2032</td>\n",
              "      <td>11</td>\n",
              "      <td>10</td>\n",
              "      <td>16</td>\n",
              "      <td>1</td>\n",
              "      <td>1</td>\n",
              "      <td>1</td>\n",
              "      <td>2</td>\n",
              "    </tr>\n",
              "    <tr>\n",
              "      <th>1997</th>\n",
              "      <td>1911</td>\n",
              "      <td>0</td>\n",
              "      <td>0.9</td>\n",
              "      <td>1</td>\n",
              "      <td>1</td>\n",
              "      <td>1</td>\n",
              "      <td>36</td>\n",
              "      <td>0.7</td>\n",
              "      <td>108</td>\n",
              "      <td>8</td>\n",
              "      <td>...</td>\n",
              "      <td>868</td>\n",
              "      <td>1632</td>\n",
              "      <td>3057</td>\n",
              "      <td>9</td>\n",
              "      <td>1</td>\n",
              "      <td>5</td>\n",
              "      <td>1</td>\n",
              "      <td>1</td>\n",
              "      <td>0</td>\n",
              "      <td>3</td>\n",
              "    </tr>\n",
              "    <tr>\n",
              "      <th>1998</th>\n",
              "      <td>1512</td>\n",
              "      <td>0</td>\n",
              "      <td>0.9</td>\n",
              "      <td>0</td>\n",
              "      <td>4</td>\n",
              "      <td>1</td>\n",
              "      <td>46</td>\n",
              "      <td>0.1</td>\n",
              "      <td>145</td>\n",
              "      <td>5</td>\n",
              "      <td>...</td>\n",
              "      <td>336</td>\n",
              "      <td>670</td>\n",
              "      <td>869</td>\n",
              "      <td>18</td>\n",
              "      <td>10</td>\n",
              "      <td>19</td>\n",
              "      <td>1</td>\n",
              "      <td>1</td>\n",
              "      <td>1</td>\n",
              "      <td>0</td>\n",
              "    </tr>\n",
              "    <tr>\n",
              "      <th>1999</th>\n",
              "      <td>510</td>\n",
              "      <td>1</td>\n",
              "      <td>2.0</td>\n",
              "      <td>1</td>\n",
              "      <td>5</td>\n",
              "      <td>1</td>\n",
              "      <td>45</td>\n",
              "      <td>0.9</td>\n",
              "      <td>168</td>\n",
              "      <td>6</td>\n",
              "      <td>...</td>\n",
              "      <td>483</td>\n",
              "      <td>754</td>\n",
              "      <td>3919</td>\n",
              "      <td>19</td>\n",
              "      <td>4</td>\n",
              "      <td>2</td>\n",
              "      <td>1</td>\n",
              "      <td>1</td>\n",
              "      <td>1</td>\n",
              "      <td>3</td>\n",
              "    </tr>\n",
              "  </tbody>\n",
              "</table>\n",
              "<p>2000 rows × 21 columns</p>\n",
              "</div>\n",
              "      <button class=\"colab-df-convert\" onclick=\"convertToInteractive('df-84aa3990-f655-4e5d-8d3f-ea0913cb52bc')\"\n",
              "              title=\"Convert this dataframe to an interactive table.\"\n",
              "              style=\"display:none;\">\n",
              "        \n",
              "  <svg xmlns=\"http://www.w3.org/2000/svg\" height=\"24px\"viewBox=\"0 0 24 24\"\n",
              "       width=\"24px\">\n",
              "    <path d=\"M0 0h24v24H0V0z\" fill=\"none\"/>\n",
              "    <path d=\"M18.56 5.44l.94 2.06.94-2.06 2.06-.94-2.06-.94-.94-2.06-.94 2.06-2.06.94zm-11 1L8.5 8.5l.94-2.06 2.06-.94-2.06-.94L8.5 2.5l-.94 2.06-2.06.94zm10 10l.94 2.06.94-2.06 2.06-.94-2.06-.94-.94-2.06-.94 2.06-2.06.94z\"/><path d=\"M17.41 7.96l-1.37-1.37c-.4-.4-.92-.59-1.43-.59-.52 0-1.04.2-1.43.59L10.3 9.45l-7.72 7.72c-.78.78-.78 2.05 0 2.83L4 21.41c.39.39.9.59 1.41.59.51 0 1.02-.2 1.41-.59l7.78-7.78 2.81-2.81c.8-.78.8-2.07 0-2.86zM5.41 20L4 18.59l7.72-7.72 1.47 1.35L5.41 20z\"/>\n",
              "  </svg>\n",
              "      </button>\n",
              "      \n",
              "  <style>\n",
              "    .colab-df-container {\n",
              "      display:flex;\n",
              "      flex-wrap:wrap;\n",
              "      gap: 12px;\n",
              "    }\n",
              "\n",
              "    .colab-df-convert {\n",
              "      background-color: #E8F0FE;\n",
              "      border: none;\n",
              "      border-radius: 50%;\n",
              "      cursor: pointer;\n",
              "      display: none;\n",
              "      fill: #1967D2;\n",
              "      height: 32px;\n",
              "      padding: 0 0 0 0;\n",
              "      width: 32px;\n",
              "    }\n",
              "\n",
              "    .colab-df-convert:hover {\n",
              "      background-color: #E2EBFA;\n",
              "      box-shadow: 0px 1px 2px rgba(60, 64, 67, 0.3), 0px 1px 3px 1px rgba(60, 64, 67, 0.15);\n",
              "      fill: #174EA6;\n",
              "    }\n",
              "\n",
              "    [theme=dark] .colab-df-convert {\n",
              "      background-color: #3B4455;\n",
              "      fill: #D2E3FC;\n",
              "    }\n",
              "\n",
              "    [theme=dark] .colab-df-convert:hover {\n",
              "      background-color: #434B5C;\n",
              "      box-shadow: 0px 1px 3px 1px rgba(0, 0, 0, 0.15);\n",
              "      filter: drop-shadow(0px 1px 2px rgba(0, 0, 0, 0.3));\n",
              "      fill: #FFFFFF;\n",
              "    }\n",
              "  </style>\n",
              "\n",
              "      <script>\n",
              "        const buttonEl =\n",
              "          document.querySelector('#df-84aa3990-f655-4e5d-8d3f-ea0913cb52bc button.colab-df-convert');\n",
              "        buttonEl.style.display =\n",
              "          google.colab.kernel.accessAllowed ? 'block' : 'none';\n",
              "\n",
              "        async function convertToInteractive(key) {\n",
              "          const element = document.querySelector('#df-84aa3990-f655-4e5d-8d3f-ea0913cb52bc');\n",
              "          const dataTable =\n",
              "            await google.colab.kernel.invokeFunction('convertToInteractive',\n",
              "                                                     [key], {});\n",
              "          if (!dataTable) return;\n",
              "\n",
              "          const docLinkHtml = 'Like what you see? Visit the ' +\n",
              "            '<a target=\"_blank\" href=https://colab.research.google.com/notebooks/data_table.ipynb>data table notebook</a>'\n",
              "            + ' to learn more about interactive tables.';\n",
              "          element.innerHTML = '';\n",
              "          dataTable['output_type'] = 'display_data';\n",
              "          await google.colab.output.renderOutput(dataTable, element);\n",
              "          const docLink = document.createElement('div');\n",
              "          docLink.innerHTML = docLinkHtml;\n",
              "          element.appendChild(docLink);\n",
              "        }\n",
              "      </script>\n",
              "    </div>\n",
              "  </div>\n",
              "  "
            ]
          },
          "metadata": {},
          "execution_count": 2415
        }
      ]
    },
    {
      "cell_type": "markdown",
      "source": [
        "# PREPROCESSING DATA"
      ],
      "metadata": {
        "id": "OmxEHwhSFUt0"
      }
    },
    {
      "cell_type": "code",
      "source": [
        "dataset.columns"
      ],
      "metadata": {
        "colab": {
          "base_uri": "https://localhost:8080/"
        },
        "id": "aPBeZU5O5_9I",
        "outputId": "eca16913-9510-4a9d-c6da-56fe467163ce"
      },
      "execution_count": 2416,
      "outputs": [
        {
          "output_type": "execute_result",
          "data": {
            "text/plain": [
              "Index(['battery_power', 'blue', 'clock_speed', 'dual_sim', 'fc', 'four_g',\n",
              "       'int_memory', 'm_dep', 'mobile_wt', 'n_cores', 'pc', 'px_height',\n",
              "       'px_width', 'ram', 'sc_h', 'sc_w', 'talk_time', 'three_g',\n",
              "       'touch_screen', 'wifi', 'price_range'],\n",
              "      dtype='object')"
            ]
          },
          "metadata": {},
          "execution_count": 2416
        }
      ]
    },
    {
      "cell_type": "code",
      "source": [
        "dataset.shape #2000 rows and 21 attributes"
      ],
      "metadata": {
        "colab": {
          "base_uri": "https://localhost:8080/"
        },
        "id": "75w41nEi90G-",
        "outputId": "a07d9647-bb44-43d0-e30a-b7338ecdfd9f"
      },
      "execution_count": 2417,
      "outputs": [
        {
          "output_type": "execute_result",
          "data": {
            "text/plain": [
              "(2000, 21)"
            ]
          },
          "metadata": {},
          "execution_count": 2417
        }
      ]
    },
    {
      "cell_type": "code",
      "source": [
        "dataset.describe()"
      ],
      "metadata": {
        "colab": {
          "base_uri": "https://localhost:8080/",
          "height": 394
        },
        "id": "tTnNy5SeOsEB",
        "outputId": "d430b59e-2d05-466b-86ee-16206e641737"
      },
      "execution_count": 2418,
      "outputs": [
        {
          "output_type": "execute_result",
          "data": {
            "text/plain": [
              "       battery_power       blue  clock_speed     dual_sim           fc  \\\n",
              "count    2000.000000  2000.0000  2000.000000  2000.000000  2000.000000   \n",
              "mean     1238.518500     0.4950     1.522250     0.509500     4.309500   \n",
              "std       439.418206     0.5001     0.816004     0.500035     4.341444   \n",
              "min       501.000000     0.0000     0.500000     0.000000     0.000000   \n",
              "25%       851.750000     0.0000     0.700000     0.000000     1.000000   \n",
              "50%      1226.000000     0.0000     1.500000     1.000000     3.000000   \n",
              "75%      1615.250000     1.0000     2.200000     1.000000     7.000000   \n",
              "max      1998.000000     1.0000     3.000000     1.000000    19.000000   \n",
              "\n",
              "            four_g   int_memory        m_dep    mobile_wt      n_cores  ...  \\\n",
              "count  2000.000000  2000.000000  2000.000000  2000.000000  2000.000000  ...   \n",
              "mean      0.521500    32.046500     0.501750   140.249000     4.520500  ...   \n",
              "std       0.499662    18.145715     0.288416    35.399655     2.287837  ...   \n",
              "min       0.000000     2.000000     0.100000    80.000000     1.000000  ...   \n",
              "25%       0.000000    16.000000     0.200000   109.000000     3.000000  ...   \n",
              "50%       1.000000    32.000000     0.500000   141.000000     4.000000  ...   \n",
              "75%       1.000000    48.000000     0.800000   170.000000     7.000000  ...   \n",
              "max       1.000000    64.000000     1.000000   200.000000     8.000000  ...   \n",
              "\n",
              "         px_height     px_width          ram         sc_h         sc_w  \\\n",
              "count  2000.000000  2000.000000  2000.000000  2000.000000  2000.000000   \n",
              "mean    645.108000  1251.515500  2124.213000    12.306500     5.767000   \n",
              "std     443.780811   432.199447  1084.732044     4.213245     4.356398   \n",
              "min       0.000000   500.000000   256.000000     5.000000     0.000000   \n",
              "25%     282.750000   874.750000  1207.500000     9.000000     2.000000   \n",
              "50%     564.000000  1247.000000  2146.500000    12.000000     5.000000   \n",
              "75%     947.250000  1633.000000  3064.500000    16.000000     9.000000   \n",
              "max    1960.000000  1998.000000  3998.000000    19.000000    18.000000   \n",
              "\n",
              "         talk_time      three_g  touch_screen         wifi  price_range  \n",
              "count  2000.000000  2000.000000   2000.000000  2000.000000  2000.000000  \n",
              "mean     11.011000     0.761500      0.503000     0.507000     1.500000  \n",
              "std       5.463955     0.426273      0.500116     0.500076     1.118314  \n",
              "min       2.000000     0.000000      0.000000     0.000000     0.000000  \n",
              "25%       6.000000     1.000000      0.000000     0.000000     0.750000  \n",
              "50%      11.000000     1.000000      1.000000     1.000000     1.500000  \n",
              "75%      16.000000     1.000000      1.000000     1.000000     2.250000  \n",
              "max      20.000000     1.000000      1.000000     1.000000     3.000000  \n",
              "\n",
              "[8 rows x 21 columns]"
            ],
            "text/html": [
              "\n",
              "  <div id=\"df-35e078da-4f41-449b-bb23-9f42011ccfce\">\n",
              "    <div class=\"colab-df-container\">\n",
              "      <div>\n",
              "<style scoped>\n",
              "    .dataframe tbody tr th:only-of-type {\n",
              "        vertical-align: middle;\n",
              "    }\n",
              "\n",
              "    .dataframe tbody tr th {\n",
              "        vertical-align: top;\n",
              "    }\n",
              "\n",
              "    .dataframe thead th {\n",
              "        text-align: right;\n",
              "    }\n",
              "</style>\n",
              "<table border=\"1\" class=\"dataframe\">\n",
              "  <thead>\n",
              "    <tr style=\"text-align: right;\">\n",
              "      <th></th>\n",
              "      <th>battery_power</th>\n",
              "      <th>blue</th>\n",
              "      <th>clock_speed</th>\n",
              "      <th>dual_sim</th>\n",
              "      <th>fc</th>\n",
              "      <th>four_g</th>\n",
              "      <th>int_memory</th>\n",
              "      <th>m_dep</th>\n",
              "      <th>mobile_wt</th>\n",
              "      <th>n_cores</th>\n",
              "      <th>...</th>\n",
              "      <th>px_height</th>\n",
              "      <th>px_width</th>\n",
              "      <th>ram</th>\n",
              "      <th>sc_h</th>\n",
              "      <th>sc_w</th>\n",
              "      <th>talk_time</th>\n",
              "      <th>three_g</th>\n",
              "      <th>touch_screen</th>\n",
              "      <th>wifi</th>\n",
              "      <th>price_range</th>\n",
              "    </tr>\n",
              "  </thead>\n",
              "  <tbody>\n",
              "    <tr>\n",
              "      <th>count</th>\n",
              "      <td>2000.000000</td>\n",
              "      <td>2000.0000</td>\n",
              "      <td>2000.000000</td>\n",
              "      <td>2000.000000</td>\n",
              "      <td>2000.000000</td>\n",
              "      <td>2000.000000</td>\n",
              "      <td>2000.000000</td>\n",
              "      <td>2000.000000</td>\n",
              "      <td>2000.000000</td>\n",
              "      <td>2000.000000</td>\n",
              "      <td>...</td>\n",
              "      <td>2000.000000</td>\n",
              "      <td>2000.000000</td>\n",
              "      <td>2000.000000</td>\n",
              "      <td>2000.000000</td>\n",
              "      <td>2000.000000</td>\n",
              "      <td>2000.000000</td>\n",
              "      <td>2000.000000</td>\n",
              "      <td>2000.000000</td>\n",
              "      <td>2000.000000</td>\n",
              "      <td>2000.000000</td>\n",
              "    </tr>\n",
              "    <tr>\n",
              "      <th>mean</th>\n",
              "      <td>1238.518500</td>\n",
              "      <td>0.4950</td>\n",
              "      <td>1.522250</td>\n",
              "      <td>0.509500</td>\n",
              "      <td>4.309500</td>\n",
              "      <td>0.521500</td>\n",
              "      <td>32.046500</td>\n",
              "      <td>0.501750</td>\n",
              "      <td>140.249000</td>\n",
              "      <td>4.520500</td>\n",
              "      <td>...</td>\n",
              "      <td>645.108000</td>\n",
              "      <td>1251.515500</td>\n",
              "      <td>2124.213000</td>\n",
              "      <td>12.306500</td>\n",
              "      <td>5.767000</td>\n",
              "      <td>11.011000</td>\n",
              "      <td>0.761500</td>\n",
              "      <td>0.503000</td>\n",
              "      <td>0.507000</td>\n",
              "      <td>1.500000</td>\n",
              "    </tr>\n",
              "    <tr>\n",
              "      <th>std</th>\n",
              "      <td>439.418206</td>\n",
              "      <td>0.5001</td>\n",
              "      <td>0.816004</td>\n",
              "      <td>0.500035</td>\n",
              "      <td>4.341444</td>\n",
              "      <td>0.499662</td>\n",
              "      <td>18.145715</td>\n",
              "      <td>0.288416</td>\n",
              "      <td>35.399655</td>\n",
              "      <td>2.287837</td>\n",
              "      <td>...</td>\n",
              "      <td>443.780811</td>\n",
              "      <td>432.199447</td>\n",
              "      <td>1084.732044</td>\n",
              "      <td>4.213245</td>\n",
              "      <td>4.356398</td>\n",
              "      <td>5.463955</td>\n",
              "      <td>0.426273</td>\n",
              "      <td>0.500116</td>\n",
              "      <td>0.500076</td>\n",
              "      <td>1.118314</td>\n",
              "    </tr>\n",
              "    <tr>\n",
              "      <th>min</th>\n",
              "      <td>501.000000</td>\n",
              "      <td>0.0000</td>\n",
              "      <td>0.500000</td>\n",
              "      <td>0.000000</td>\n",
              "      <td>0.000000</td>\n",
              "      <td>0.000000</td>\n",
              "      <td>2.000000</td>\n",
              "      <td>0.100000</td>\n",
              "      <td>80.000000</td>\n",
              "      <td>1.000000</td>\n",
              "      <td>...</td>\n",
              "      <td>0.000000</td>\n",
              "      <td>500.000000</td>\n",
              "      <td>256.000000</td>\n",
              "      <td>5.000000</td>\n",
              "      <td>0.000000</td>\n",
              "      <td>2.000000</td>\n",
              "      <td>0.000000</td>\n",
              "      <td>0.000000</td>\n",
              "      <td>0.000000</td>\n",
              "      <td>0.000000</td>\n",
              "    </tr>\n",
              "    <tr>\n",
              "      <th>25%</th>\n",
              "      <td>851.750000</td>\n",
              "      <td>0.0000</td>\n",
              "      <td>0.700000</td>\n",
              "      <td>0.000000</td>\n",
              "      <td>1.000000</td>\n",
              "      <td>0.000000</td>\n",
              "      <td>16.000000</td>\n",
              "      <td>0.200000</td>\n",
              "      <td>109.000000</td>\n",
              "      <td>3.000000</td>\n",
              "      <td>...</td>\n",
              "      <td>282.750000</td>\n",
              "      <td>874.750000</td>\n",
              "      <td>1207.500000</td>\n",
              "      <td>9.000000</td>\n",
              "      <td>2.000000</td>\n",
              "      <td>6.000000</td>\n",
              "      <td>1.000000</td>\n",
              "      <td>0.000000</td>\n",
              "      <td>0.000000</td>\n",
              "      <td>0.750000</td>\n",
              "    </tr>\n",
              "    <tr>\n",
              "      <th>50%</th>\n",
              "      <td>1226.000000</td>\n",
              "      <td>0.0000</td>\n",
              "      <td>1.500000</td>\n",
              "      <td>1.000000</td>\n",
              "      <td>3.000000</td>\n",
              "      <td>1.000000</td>\n",
              "      <td>32.000000</td>\n",
              "      <td>0.500000</td>\n",
              "      <td>141.000000</td>\n",
              "      <td>4.000000</td>\n",
              "      <td>...</td>\n",
              "      <td>564.000000</td>\n",
              "      <td>1247.000000</td>\n",
              "      <td>2146.500000</td>\n",
              "      <td>12.000000</td>\n",
              "      <td>5.000000</td>\n",
              "      <td>11.000000</td>\n",
              "      <td>1.000000</td>\n",
              "      <td>1.000000</td>\n",
              "      <td>1.000000</td>\n",
              "      <td>1.500000</td>\n",
              "    </tr>\n",
              "    <tr>\n",
              "      <th>75%</th>\n",
              "      <td>1615.250000</td>\n",
              "      <td>1.0000</td>\n",
              "      <td>2.200000</td>\n",
              "      <td>1.000000</td>\n",
              "      <td>7.000000</td>\n",
              "      <td>1.000000</td>\n",
              "      <td>48.000000</td>\n",
              "      <td>0.800000</td>\n",
              "      <td>170.000000</td>\n",
              "      <td>7.000000</td>\n",
              "      <td>...</td>\n",
              "      <td>947.250000</td>\n",
              "      <td>1633.000000</td>\n",
              "      <td>3064.500000</td>\n",
              "      <td>16.000000</td>\n",
              "      <td>9.000000</td>\n",
              "      <td>16.000000</td>\n",
              "      <td>1.000000</td>\n",
              "      <td>1.000000</td>\n",
              "      <td>1.000000</td>\n",
              "      <td>2.250000</td>\n",
              "    </tr>\n",
              "    <tr>\n",
              "      <th>max</th>\n",
              "      <td>1998.000000</td>\n",
              "      <td>1.0000</td>\n",
              "      <td>3.000000</td>\n",
              "      <td>1.000000</td>\n",
              "      <td>19.000000</td>\n",
              "      <td>1.000000</td>\n",
              "      <td>64.000000</td>\n",
              "      <td>1.000000</td>\n",
              "      <td>200.000000</td>\n",
              "      <td>8.000000</td>\n",
              "      <td>...</td>\n",
              "      <td>1960.000000</td>\n",
              "      <td>1998.000000</td>\n",
              "      <td>3998.000000</td>\n",
              "      <td>19.000000</td>\n",
              "      <td>18.000000</td>\n",
              "      <td>20.000000</td>\n",
              "      <td>1.000000</td>\n",
              "      <td>1.000000</td>\n",
              "      <td>1.000000</td>\n",
              "      <td>3.000000</td>\n",
              "    </tr>\n",
              "  </tbody>\n",
              "</table>\n",
              "<p>8 rows × 21 columns</p>\n",
              "</div>\n",
              "      <button class=\"colab-df-convert\" onclick=\"convertToInteractive('df-35e078da-4f41-449b-bb23-9f42011ccfce')\"\n",
              "              title=\"Convert this dataframe to an interactive table.\"\n",
              "              style=\"display:none;\">\n",
              "        \n",
              "  <svg xmlns=\"http://www.w3.org/2000/svg\" height=\"24px\"viewBox=\"0 0 24 24\"\n",
              "       width=\"24px\">\n",
              "    <path d=\"M0 0h24v24H0V0z\" fill=\"none\"/>\n",
              "    <path d=\"M18.56 5.44l.94 2.06.94-2.06 2.06-.94-2.06-.94-.94-2.06-.94 2.06-2.06.94zm-11 1L8.5 8.5l.94-2.06 2.06-.94-2.06-.94L8.5 2.5l-.94 2.06-2.06.94zm10 10l.94 2.06.94-2.06 2.06-.94-2.06-.94-.94-2.06-.94 2.06-2.06.94z\"/><path d=\"M17.41 7.96l-1.37-1.37c-.4-.4-.92-.59-1.43-.59-.52 0-1.04.2-1.43.59L10.3 9.45l-7.72 7.72c-.78.78-.78 2.05 0 2.83L4 21.41c.39.39.9.59 1.41.59.51 0 1.02-.2 1.41-.59l7.78-7.78 2.81-2.81c.8-.78.8-2.07 0-2.86zM5.41 20L4 18.59l7.72-7.72 1.47 1.35L5.41 20z\"/>\n",
              "  </svg>\n",
              "      </button>\n",
              "      \n",
              "  <style>\n",
              "    .colab-df-container {\n",
              "      display:flex;\n",
              "      flex-wrap:wrap;\n",
              "      gap: 12px;\n",
              "    }\n",
              "\n",
              "    .colab-df-convert {\n",
              "      background-color: #E8F0FE;\n",
              "      border: none;\n",
              "      border-radius: 50%;\n",
              "      cursor: pointer;\n",
              "      display: none;\n",
              "      fill: #1967D2;\n",
              "      height: 32px;\n",
              "      padding: 0 0 0 0;\n",
              "      width: 32px;\n",
              "    }\n",
              "\n",
              "    .colab-df-convert:hover {\n",
              "      background-color: #E2EBFA;\n",
              "      box-shadow: 0px 1px 2px rgba(60, 64, 67, 0.3), 0px 1px 3px 1px rgba(60, 64, 67, 0.15);\n",
              "      fill: #174EA6;\n",
              "    }\n",
              "\n",
              "    [theme=dark] .colab-df-convert {\n",
              "      background-color: #3B4455;\n",
              "      fill: #D2E3FC;\n",
              "    }\n",
              "\n",
              "    [theme=dark] .colab-df-convert:hover {\n",
              "      background-color: #434B5C;\n",
              "      box-shadow: 0px 1px 3px 1px rgba(0, 0, 0, 0.15);\n",
              "      filter: drop-shadow(0px 1px 2px rgba(0, 0, 0, 0.3));\n",
              "      fill: #FFFFFF;\n",
              "    }\n",
              "  </style>\n",
              "\n",
              "      <script>\n",
              "        const buttonEl =\n",
              "          document.querySelector('#df-35e078da-4f41-449b-bb23-9f42011ccfce button.colab-df-convert');\n",
              "        buttonEl.style.display =\n",
              "          google.colab.kernel.accessAllowed ? 'block' : 'none';\n",
              "\n",
              "        async function convertToInteractive(key) {\n",
              "          const element = document.querySelector('#df-35e078da-4f41-449b-bb23-9f42011ccfce');\n",
              "          const dataTable =\n",
              "            await google.colab.kernel.invokeFunction('convertToInteractive',\n",
              "                                                     [key], {});\n",
              "          if (!dataTable) return;\n",
              "\n",
              "          const docLinkHtml = 'Like what you see? Visit the ' +\n",
              "            '<a target=\"_blank\" href=https://colab.research.google.com/notebooks/data_table.ipynb>data table notebook</a>'\n",
              "            + ' to learn more about interactive tables.';\n",
              "          element.innerHTML = '';\n",
              "          dataTable['output_type'] = 'display_data';\n",
              "          await google.colab.output.renderOutput(dataTable, element);\n",
              "          const docLink = document.createElement('div');\n",
              "          docLink.innerHTML = docLinkHtml;\n",
              "          element.appendChild(docLink);\n",
              "        }\n",
              "      </script>\n",
              "    </div>\n",
              "  </div>\n",
              "  "
            ]
          },
          "metadata": {},
          "execution_count": 2418
        }
      ]
    },
    {
      "cell_type": "markdown",
      "source": [
        "**handling of missing data**"
      ],
      "metadata": {
        "id": "4mVNj9NTLdUE"
      }
    },
    {
      "cell_type": "code",
      "source": [
        "print((dataset[[\"battery_power\",'clock_speed','fc','int_memory','m_dep','mobile_wt','n_cores','pc','px_height','px_width','ram','sc_h','sc_w','talk_time']]==0).sum())\n",
        "#gives columns with zero values and num of zero values ,price range column is omitted"
      ],
      "metadata": {
        "colab": {
          "base_uri": "https://localhost:8080/"
        },
        "id": "pRr79OeK_dnW",
        "outputId": "c2560269-fe65-4e60-f60e-53ddcc020ee9"
      },
      "execution_count": 2419,
      "outputs": [
        {
          "output_type": "stream",
          "name": "stdout",
          "text": [
            "battery_power      0\n",
            "clock_speed        0\n",
            "fc               474\n",
            "int_memory         0\n",
            "m_dep              0\n",
            "mobile_wt          0\n",
            "n_cores            0\n",
            "pc               101\n",
            "px_height          2\n",
            "px_width           0\n",
            "ram                0\n",
            "sc_h               0\n",
            "sc_w             180\n",
            "talk_time          0\n",
            "dtype: int64\n"
          ]
        }
      ]
    },
    {
      "cell_type": "markdown",
      "source": [
        "normally these variables can't have zero values,since it can be considered as missing values.but in this case we can ignore pc and fc."
      ],
      "metadata": {
        "id": "Vv_CJYyfPMF2"
      }
    },
    {
      "cell_type": "markdown",
      "source": [
        "Here, the attribute screen width (sc_w) can't be zero. but it has 180 zero values. those 180 rows are missing data. those rows with sc_w = 0 should be removed."
      ],
      "metadata": {
        "id": "oenJdxEaK4Su"
      }
    },
    {
      "cell_type": "code",
      "source": [
        "dataset= dataset[dataset['sc_w'] != 0] #remove zero value rows in sc_w column\n"
      ],
      "metadata": {
        "id": "jw29A6zhLv6W"
      },
      "execution_count": 2420,
      "outputs": []
    },
    {
      "cell_type": "code",
      "source": [
        "(dataset[[\"battery_power\",'clock_speed','fc','int_memory','m_dep','mobile_wt','n_cores','pc','px_height','px_width','ram','sc_h','sc_w','talk_time']]==0).sum()"
      ],
      "metadata": {
        "colab": {
          "base_uri": "https://localhost:8080/"
        },
        "id": "EYZCc0H1NS_b",
        "outputId": "46582bec-0942-46e7-f190-2469fc00ed12"
      },
      "execution_count": 2421,
      "outputs": [
        {
          "output_type": "execute_result",
          "data": {
            "text/plain": [
              "battery_power      0\n",
              "clock_speed        0\n",
              "fc               426\n",
              "int_memory         0\n",
              "m_dep              0\n",
              "mobile_wt          0\n",
              "n_cores            0\n",
              "pc                88\n",
              "px_height          1\n",
              "px_width           0\n",
              "ram                0\n",
              "sc_h               0\n",
              "sc_w               0\n",
              "talk_time          0\n",
              "dtype: int64"
            ]
          },
          "metadata": {},
          "execution_count": 2421
        }
      ]
    },
    {
      "cell_type": "code",
      "source": [
        "dataset.shape #1820 rows and 21 attributes"
      ],
      "metadata": {
        "colab": {
          "base_uri": "https://localhost:8080/"
        },
        "id": "MQ-q23kGOAY-",
        "outputId": "034f2723-c4dc-44ac-d533-fd9c974b42d3"
      },
      "execution_count": 2422,
      "outputs": [
        {
          "output_type": "execute_result",
          "data": {
            "text/plain": [
              "(1820, 21)"
            ]
          },
          "metadata": {},
          "execution_count": 2422
        }
      ]
    },
    {
      "cell_type": "code",
      "source": [
        "dataset.describe()"
      ],
      "metadata": {
        "colab": {
          "base_uri": "https://localhost:8080/",
          "height": 394
        },
        "id": "DcTr2UZkCy8r",
        "outputId": "99705294-ff1d-4a0c-e03d-0241473a921c"
      },
      "execution_count": 2423,
      "outputs": [
        {
          "output_type": "execute_result",
          "data": {
            "text/plain": [
              "       battery_power         blue  clock_speed     dual_sim           fc  \\\n",
              "count    1820.000000  1820.000000  1820.000000  1820.000000  1820.000000   \n",
              "mean     1237.843956     0.503846     1.519670     0.504396     4.319231   \n",
              "std       439.940961     0.500123     0.813829     0.500118     4.354894   \n",
              "min       501.000000     0.000000     0.500000     0.000000     0.000000   \n",
              "25%       845.500000     0.000000     0.700000     0.000000     1.000000   \n",
              "50%      1230.500000     1.000000     1.500000     1.000000     3.000000   \n",
              "75%      1611.000000     1.000000     2.200000     1.000000     7.000000   \n",
              "max      1998.000000     1.000000     3.000000     1.000000    19.000000   \n",
              "\n",
              "            four_g   int_memory        m_dep    mobile_wt      n_cores  ...  \\\n",
              "count  1820.000000  1820.000000  1820.000000  1820.000000  1820.000000  ...   \n",
              "mean      0.524725    32.139560     0.499890   140.585714     4.532967  ...   \n",
              "std       0.499526    18.114542     0.288805    35.428886     2.289520  ...   \n",
              "min       0.000000     2.000000     0.100000    80.000000     1.000000  ...   \n",
              "25%       0.000000    16.000000     0.200000   109.000000     3.000000  ...   \n",
              "50%       1.000000    32.000000     0.500000   141.500000     5.000000  ...   \n",
              "75%       1.000000    48.000000     0.800000   170.250000     7.000000  ...   \n",
              "max       1.000000    64.000000     1.000000   200.000000     8.000000  ...   \n",
              "\n",
              "         px_height     px_width          ram         sc_h         sc_w  \\\n",
              "count  1820.000000  1820.000000  1820.000000  1820.000000  1820.000000   \n",
              "mean    646.731319  1252.686264  2133.372527    12.485714     6.337363   \n",
              "std     444.877537   432.342583  1087.197536     4.166849     4.152062   \n",
              "min       0.000000   500.000000   256.000000     5.000000     1.000000   \n",
              "25%     283.750000   877.000000  1203.750000     9.000000     3.000000   \n",
              "50%     561.500000  1250.000000  2174.000000    13.000000     6.000000   \n",
              "75%     952.000000  1633.000000  3072.250000    16.000000     9.000000   \n",
              "max    1960.000000  1998.000000  3998.000000    19.000000    18.000000   \n",
              "\n",
              "         talk_time      three_g  touch_screen         wifi  price_range  \n",
              "count  1820.000000  1820.000000   1820.000000  1820.000000  1820.000000  \n",
              "mean     11.007143     0.760989      0.507692     0.513187     1.509341  \n",
              "std       5.455951     0.426597      0.500078     0.499963     1.119285  \n",
              "min       2.000000     0.000000      0.000000     0.000000     0.000000  \n",
              "25%       6.000000     1.000000      0.000000     0.000000     1.000000  \n",
              "50%      11.000000     1.000000      1.000000     1.000000     2.000000  \n",
              "75%      16.000000     1.000000      1.000000     1.000000     3.000000  \n",
              "max      20.000000     1.000000      1.000000     1.000000     3.000000  \n",
              "\n",
              "[8 rows x 21 columns]"
            ],
            "text/html": [
              "\n",
              "  <div id=\"df-ae563b17-27c5-467a-a189-41722ebb310f\">\n",
              "    <div class=\"colab-df-container\">\n",
              "      <div>\n",
              "<style scoped>\n",
              "    .dataframe tbody tr th:only-of-type {\n",
              "        vertical-align: middle;\n",
              "    }\n",
              "\n",
              "    .dataframe tbody tr th {\n",
              "        vertical-align: top;\n",
              "    }\n",
              "\n",
              "    .dataframe thead th {\n",
              "        text-align: right;\n",
              "    }\n",
              "</style>\n",
              "<table border=\"1\" class=\"dataframe\">\n",
              "  <thead>\n",
              "    <tr style=\"text-align: right;\">\n",
              "      <th></th>\n",
              "      <th>battery_power</th>\n",
              "      <th>blue</th>\n",
              "      <th>clock_speed</th>\n",
              "      <th>dual_sim</th>\n",
              "      <th>fc</th>\n",
              "      <th>four_g</th>\n",
              "      <th>int_memory</th>\n",
              "      <th>m_dep</th>\n",
              "      <th>mobile_wt</th>\n",
              "      <th>n_cores</th>\n",
              "      <th>...</th>\n",
              "      <th>px_height</th>\n",
              "      <th>px_width</th>\n",
              "      <th>ram</th>\n",
              "      <th>sc_h</th>\n",
              "      <th>sc_w</th>\n",
              "      <th>talk_time</th>\n",
              "      <th>three_g</th>\n",
              "      <th>touch_screen</th>\n",
              "      <th>wifi</th>\n",
              "      <th>price_range</th>\n",
              "    </tr>\n",
              "  </thead>\n",
              "  <tbody>\n",
              "    <tr>\n",
              "      <th>count</th>\n",
              "      <td>1820.000000</td>\n",
              "      <td>1820.000000</td>\n",
              "      <td>1820.000000</td>\n",
              "      <td>1820.000000</td>\n",
              "      <td>1820.000000</td>\n",
              "      <td>1820.000000</td>\n",
              "      <td>1820.000000</td>\n",
              "      <td>1820.000000</td>\n",
              "      <td>1820.000000</td>\n",
              "      <td>1820.000000</td>\n",
              "      <td>...</td>\n",
              "      <td>1820.000000</td>\n",
              "      <td>1820.000000</td>\n",
              "      <td>1820.000000</td>\n",
              "      <td>1820.000000</td>\n",
              "      <td>1820.000000</td>\n",
              "      <td>1820.000000</td>\n",
              "      <td>1820.000000</td>\n",
              "      <td>1820.000000</td>\n",
              "      <td>1820.000000</td>\n",
              "      <td>1820.000000</td>\n",
              "    </tr>\n",
              "    <tr>\n",
              "      <th>mean</th>\n",
              "      <td>1237.843956</td>\n",
              "      <td>0.503846</td>\n",
              "      <td>1.519670</td>\n",
              "      <td>0.504396</td>\n",
              "      <td>4.319231</td>\n",
              "      <td>0.524725</td>\n",
              "      <td>32.139560</td>\n",
              "      <td>0.499890</td>\n",
              "      <td>140.585714</td>\n",
              "      <td>4.532967</td>\n",
              "      <td>...</td>\n",
              "      <td>646.731319</td>\n",
              "      <td>1252.686264</td>\n",
              "      <td>2133.372527</td>\n",
              "      <td>12.485714</td>\n",
              "      <td>6.337363</td>\n",
              "      <td>11.007143</td>\n",
              "      <td>0.760989</td>\n",
              "      <td>0.507692</td>\n",
              "      <td>0.513187</td>\n",
              "      <td>1.509341</td>\n",
              "    </tr>\n",
              "    <tr>\n",
              "      <th>std</th>\n",
              "      <td>439.940961</td>\n",
              "      <td>0.500123</td>\n",
              "      <td>0.813829</td>\n",
              "      <td>0.500118</td>\n",
              "      <td>4.354894</td>\n",
              "      <td>0.499526</td>\n",
              "      <td>18.114542</td>\n",
              "      <td>0.288805</td>\n",
              "      <td>35.428886</td>\n",
              "      <td>2.289520</td>\n",
              "      <td>...</td>\n",
              "      <td>444.877537</td>\n",
              "      <td>432.342583</td>\n",
              "      <td>1087.197536</td>\n",
              "      <td>4.166849</td>\n",
              "      <td>4.152062</td>\n",
              "      <td>5.455951</td>\n",
              "      <td>0.426597</td>\n",
              "      <td>0.500078</td>\n",
              "      <td>0.499963</td>\n",
              "      <td>1.119285</td>\n",
              "    </tr>\n",
              "    <tr>\n",
              "      <th>min</th>\n",
              "      <td>501.000000</td>\n",
              "      <td>0.000000</td>\n",
              "      <td>0.500000</td>\n",
              "      <td>0.000000</td>\n",
              "      <td>0.000000</td>\n",
              "      <td>0.000000</td>\n",
              "      <td>2.000000</td>\n",
              "      <td>0.100000</td>\n",
              "      <td>80.000000</td>\n",
              "      <td>1.000000</td>\n",
              "      <td>...</td>\n",
              "      <td>0.000000</td>\n",
              "      <td>500.000000</td>\n",
              "      <td>256.000000</td>\n",
              "      <td>5.000000</td>\n",
              "      <td>1.000000</td>\n",
              "      <td>2.000000</td>\n",
              "      <td>0.000000</td>\n",
              "      <td>0.000000</td>\n",
              "      <td>0.000000</td>\n",
              "      <td>0.000000</td>\n",
              "    </tr>\n",
              "    <tr>\n",
              "      <th>25%</th>\n",
              "      <td>845.500000</td>\n",
              "      <td>0.000000</td>\n",
              "      <td>0.700000</td>\n",
              "      <td>0.000000</td>\n",
              "      <td>1.000000</td>\n",
              "      <td>0.000000</td>\n",
              "      <td>16.000000</td>\n",
              "      <td>0.200000</td>\n",
              "      <td>109.000000</td>\n",
              "      <td>3.000000</td>\n",
              "      <td>...</td>\n",
              "      <td>283.750000</td>\n",
              "      <td>877.000000</td>\n",
              "      <td>1203.750000</td>\n",
              "      <td>9.000000</td>\n",
              "      <td>3.000000</td>\n",
              "      <td>6.000000</td>\n",
              "      <td>1.000000</td>\n",
              "      <td>0.000000</td>\n",
              "      <td>0.000000</td>\n",
              "      <td>1.000000</td>\n",
              "    </tr>\n",
              "    <tr>\n",
              "      <th>50%</th>\n",
              "      <td>1230.500000</td>\n",
              "      <td>1.000000</td>\n",
              "      <td>1.500000</td>\n",
              "      <td>1.000000</td>\n",
              "      <td>3.000000</td>\n",
              "      <td>1.000000</td>\n",
              "      <td>32.000000</td>\n",
              "      <td>0.500000</td>\n",
              "      <td>141.500000</td>\n",
              "      <td>5.000000</td>\n",
              "      <td>...</td>\n",
              "      <td>561.500000</td>\n",
              "      <td>1250.000000</td>\n",
              "      <td>2174.000000</td>\n",
              "      <td>13.000000</td>\n",
              "      <td>6.000000</td>\n",
              "      <td>11.000000</td>\n",
              "      <td>1.000000</td>\n",
              "      <td>1.000000</td>\n",
              "      <td>1.000000</td>\n",
              "      <td>2.000000</td>\n",
              "    </tr>\n",
              "    <tr>\n",
              "      <th>75%</th>\n",
              "      <td>1611.000000</td>\n",
              "      <td>1.000000</td>\n",
              "      <td>2.200000</td>\n",
              "      <td>1.000000</td>\n",
              "      <td>7.000000</td>\n",
              "      <td>1.000000</td>\n",
              "      <td>48.000000</td>\n",
              "      <td>0.800000</td>\n",
              "      <td>170.250000</td>\n",
              "      <td>7.000000</td>\n",
              "      <td>...</td>\n",
              "      <td>952.000000</td>\n",
              "      <td>1633.000000</td>\n",
              "      <td>3072.250000</td>\n",
              "      <td>16.000000</td>\n",
              "      <td>9.000000</td>\n",
              "      <td>16.000000</td>\n",
              "      <td>1.000000</td>\n",
              "      <td>1.000000</td>\n",
              "      <td>1.000000</td>\n",
              "      <td>3.000000</td>\n",
              "    </tr>\n",
              "    <tr>\n",
              "      <th>max</th>\n",
              "      <td>1998.000000</td>\n",
              "      <td>1.000000</td>\n",
              "      <td>3.000000</td>\n",
              "      <td>1.000000</td>\n",
              "      <td>19.000000</td>\n",
              "      <td>1.000000</td>\n",
              "      <td>64.000000</td>\n",
              "      <td>1.000000</td>\n",
              "      <td>200.000000</td>\n",
              "      <td>8.000000</td>\n",
              "      <td>...</td>\n",
              "      <td>1960.000000</td>\n",
              "      <td>1998.000000</td>\n",
              "      <td>3998.000000</td>\n",
              "      <td>19.000000</td>\n",
              "      <td>18.000000</td>\n",
              "      <td>20.000000</td>\n",
              "      <td>1.000000</td>\n",
              "      <td>1.000000</td>\n",
              "      <td>1.000000</td>\n",
              "      <td>3.000000</td>\n",
              "    </tr>\n",
              "  </tbody>\n",
              "</table>\n",
              "<p>8 rows × 21 columns</p>\n",
              "</div>\n",
              "      <button class=\"colab-df-convert\" onclick=\"convertToInteractive('df-ae563b17-27c5-467a-a189-41722ebb310f')\"\n",
              "              title=\"Convert this dataframe to an interactive table.\"\n",
              "              style=\"display:none;\">\n",
              "        \n",
              "  <svg xmlns=\"http://www.w3.org/2000/svg\" height=\"24px\"viewBox=\"0 0 24 24\"\n",
              "       width=\"24px\">\n",
              "    <path d=\"M0 0h24v24H0V0z\" fill=\"none\"/>\n",
              "    <path d=\"M18.56 5.44l.94 2.06.94-2.06 2.06-.94-2.06-.94-.94-2.06-.94 2.06-2.06.94zm-11 1L8.5 8.5l.94-2.06 2.06-.94-2.06-.94L8.5 2.5l-.94 2.06-2.06.94zm10 10l.94 2.06.94-2.06 2.06-.94-2.06-.94-.94-2.06-.94 2.06-2.06.94z\"/><path d=\"M17.41 7.96l-1.37-1.37c-.4-.4-.92-.59-1.43-.59-.52 0-1.04.2-1.43.59L10.3 9.45l-7.72 7.72c-.78.78-.78 2.05 0 2.83L4 21.41c.39.39.9.59 1.41.59.51 0 1.02-.2 1.41-.59l7.78-7.78 2.81-2.81c.8-.78.8-2.07 0-2.86zM5.41 20L4 18.59l7.72-7.72 1.47 1.35L5.41 20z\"/>\n",
              "  </svg>\n",
              "      </button>\n",
              "      \n",
              "  <style>\n",
              "    .colab-df-container {\n",
              "      display:flex;\n",
              "      flex-wrap:wrap;\n",
              "      gap: 12px;\n",
              "    }\n",
              "\n",
              "    .colab-df-convert {\n",
              "      background-color: #E8F0FE;\n",
              "      border: none;\n",
              "      border-radius: 50%;\n",
              "      cursor: pointer;\n",
              "      display: none;\n",
              "      fill: #1967D2;\n",
              "      height: 32px;\n",
              "      padding: 0 0 0 0;\n",
              "      width: 32px;\n",
              "    }\n",
              "\n",
              "    .colab-df-convert:hover {\n",
              "      background-color: #E2EBFA;\n",
              "      box-shadow: 0px 1px 2px rgba(60, 64, 67, 0.3), 0px 1px 3px 1px rgba(60, 64, 67, 0.15);\n",
              "      fill: #174EA6;\n",
              "    }\n",
              "\n",
              "    [theme=dark] .colab-df-convert {\n",
              "      background-color: #3B4455;\n",
              "      fill: #D2E3FC;\n",
              "    }\n",
              "\n",
              "    [theme=dark] .colab-df-convert:hover {\n",
              "      background-color: #434B5C;\n",
              "      box-shadow: 0px 1px 3px 1px rgba(0, 0, 0, 0.15);\n",
              "      filter: drop-shadow(0px 1px 2px rgba(0, 0, 0, 0.3));\n",
              "      fill: #FFFFFF;\n",
              "    }\n",
              "  </style>\n",
              "\n",
              "      <script>\n",
              "        const buttonEl =\n",
              "          document.querySelector('#df-ae563b17-27c5-467a-a189-41722ebb310f button.colab-df-convert');\n",
              "        buttonEl.style.display =\n",
              "          google.colab.kernel.accessAllowed ? 'block' : 'none';\n",
              "\n",
              "        async function convertToInteractive(key) {\n",
              "          const element = document.querySelector('#df-ae563b17-27c5-467a-a189-41722ebb310f');\n",
              "          const dataTable =\n",
              "            await google.colab.kernel.invokeFunction('convertToInteractive',\n",
              "                                                     [key], {});\n",
              "          if (!dataTable) return;\n",
              "\n",
              "          const docLinkHtml = 'Like what you see? Visit the ' +\n",
              "            '<a target=\"_blank\" href=https://colab.research.google.com/notebooks/data_table.ipynb>data table notebook</a>'\n",
              "            + ' to learn more about interactive tables.';\n",
              "          element.innerHTML = '';\n",
              "          dataTable['output_type'] = 'display_data';\n",
              "          await google.colab.output.renderOutput(dataTable, element);\n",
              "          const docLink = document.createElement('div');\n",
              "          docLink.innerHTML = docLinkHtml;\n",
              "          element.appendChild(docLink);\n",
              "        }\n",
              "      </script>\n",
              "    </div>\n",
              "  </div>\n",
              "  "
            ]
          },
          "metadata": {},
          "execution_count": 2423
        }
      ]
    },
    {
      "cell_type": "code",
      "source": [
        "print(dataset.isnull().sum())#check for null"
      ],
      "metadata": {
        "colab": {
          "base_uri": "https://localhost:8080/"
        },
        "id": "nHQmu0V8C0U0",
        "outputId": "e3fc4e39-d5b7-4670-e38a-b7c13d81ae73"
      },
      "execution_count": 2424,
      "outputs": [
        {
          "output_type": "stream",
          "name": "stdout",
          "text": [
            "battery_power    0\n",
            "blue             0\n",
            "clock_speed      0\n",
            "dual_sim         0\n",
            "fc               0\n",
            "four_g           0\n",
            "int_memory       0\n",
            "m_dep            0\n",
            "mobile_wt        0\n",
            "n_cores          0\n",
            "pc               0\n",
            "px_height        0\n",
            "px_width         0\n",
            "ram              0\n",
            "sc_h             0\n",
            "sc_w             0\n",
            "talk_time        0\n",
            "three_g          0\n",
            "touch_screen     0\n",
            "wifi             0\n",
            "price_range      0\n",
            "dtype: int64\n"
          ]
        }
      ]
    },
    {
      "cell_type": "markdown",
      "source": [
        "# scaling the dataset (normalization)"
      ],
      "metadata": {
        "id": "jEvPqLQvaNtF"
      }
    },
    {
      "cell_type": "markdown",
      "source": [
        " converting data values to same range."
      ],
      "metadata": {
        "id": "ovIjlTsZGWDZ"
      }
    },
    {
      "cell_type": "code",
      "source": [
        "import sklearn;\n",
        "from sklearn.preprocessing import MinMaxScaler;\n",
        "scaler = MinMaxScaler()\n",
        "\n",
        "for column in dataset.columns:\n",
        "    if column != 'price_range':\n",
        "      dataset[column] = scaler.fit_transform(dataset[column].values.reshape(-1,1))\n",
        "dataset"
      ],
      "metadata": {
        "colab": {
          "base_uri": "https://localhost:8080/",
          "height": 1000
        },
        "id": "SLdYJOCAaRT3",
        "outputId": "17abdd44-0f2e-4d2e-cd1d-bb5f57fdaeb5"
      },
      "execution_count": 2425,
      "outputs": [
        {
          "output_type": "stream",
          "name": "stderr",
          "text": [
            "<ipython-input-2425-dea5d5e24742>:7: SettingWithCopyWarning: \n",
            "A value is trying to be set on a copy of a slice from a DataFrame.\n",
            "Try using .loc[row_indexer,col_indexer] = value instead\n",
            "\n",
            "See the caveats in the documentation: https://pandas.pydata.org/pandas-docs/stable/user_guide/indexing.html#returning-a-view-versus-a-copy\n",
            "  dataset[column] = scaler.fit_transform(dataset[column].values.reshape(-1,1))\n",
            "<ipython-input-2425-dea5d5e24742>:7: SettingWithCopyWarning: \n",
            "A value is trying to be set on a copy of a slice from a DataFrame.\n",
            "Try using .loc[row_indexer,col_indexer] = value instead\n",
            "\n",
            "See the caveats in the documentation: https://pandas.pydata.org/pandas-docs/stable/user_guide/indexing.html#returning-a-view-versus-a-copy\n",
            "  dataset[column] = scaler.fit_transform(dataset[column].values.reshape(-1,1))\n",
            "<ipython-input-2425-dea5d5e24742>:7: SettingWithCopyWarning: \n",
            "A value is trying to be set on a copy of a slice from a DataFrame.\n",
            "Try using .loc[row_indexer,col_indexer] = value instead\n",
            "\n",
            "See the caveats in the documentation: https://pandas.pydata.org/pandas-docs/stable/user_guide/indexing.html#returning-a-view-versus-a-copy\n",
            "  dataset[column] = scaler.fit_transform(dataset[column].values.reshape(-1,1))\n",
            "<ipython-input-2425-dea5d5e24742>:7: SettingWithCopyWarning: \n",
            "A value is trying to be set on a copy of a slice from a DataFrame.\n",
            "Try using .loc[row_indexer,col_indexer] = value instead\n",
            "\n",
            "See the caveats in the documentation: https://pandas.pydata.org/pandas-docs/stable/user_guide/indexing.html#returning-a-view-versus-a-copy\n",
            "  dataset[column] = scaler.fit_transform(dataset[column].values.reshape(-1,1))\n",
            "<ipython-input-2425-dea5d5e24742>:7: SettingWithCopyWarning: \n",
            "A value is trying to be set on a copy of a slice from a DataFrame.\n",
            "Try using .loc[row_indexer,col_indexer] = value instead\n",
            "\n",
            "See the caveats in the documentation: https://pandas.pydata.org/pandas-docs/stable/user_guide/indexing.html#returning-a-view-versus-a-copy\n",
            "  dataset[column] = scaler.fit_transform(dataset[column].values.reshape(-1,1))\n",
            "<ipython-input-2425-dea5d5e24742>:7: SettingWithCopyWarning: \n",
            "A value is trying to be set on a copy of a slice from a DataFrame.\n",
            "Try using .loc[row_indexer,col_indexer] = value instead\n",
            "\n",
            "See the caveats in the documentation: https://pandas.pydata.org/pandas-docs/stable/user_guide/indexing.html#returning-a-view-versus-a-copy\n",
            "  dataset[column] = scaler.fit_transform(dataset[column].values.reshape(-1,1))\n",
            "<ipython-input-2425-dea5d5e24742>:7: SettingWithCopyWarning: \n",
            "A value is trying to be set on a copy of a slice from a DataFrame.\n",
            "Try using .loc[row_indexer,col_indexer] = value instead\n",
            "\n",
            "See the caveats in the documentation: https://pandas.pydata.org/pandas-docs/stable/user_guide/indexing.html#returning-a-view-versus-a-copy\n",
            "  dataset[column] = scaler.fit_transform(dataset[column].values.reshape(-1,1))\n",
            "<ipython-input-2425-dea5d5e24742>:7: SettingWithCopyWarning: \n",
            "A value is trying to be set on a copy of a slice from a DataFrame.\n",
            "Try using .loc[row_indexer,col_indexer] = value instead\n",
            "\n",
            "See the caveats in the documentation: https://pandas.pydata.org/pandas-docs/stable/user_guide/indexing.html#returning-a-view-versus-a-copy\n",
            "  dataset[column] = scaler.fit_transform(dataset[column].values.reshape(-1,1))\n",
            "<ipython-input-2425-dea5d5e24742>:7: SettingWithCopyWarning: \n",
            "A value is trying to be set on a copy of a slice from a DataFrame.\n",
            "Try using .loc[row_indexer,col_indexer] = value instead\n",
            "\n",
            "See the caveats in the documentation: https://pandas.pydata.org/pandas-docs/stable/user_guide/indexing.html#returning-a-view-versus-a-copy\n",
            "  dataset[column] = scaler.fit_transform(dataset[column].values.reshape(-1,1))\n",
            "<ipython-input-2425-dea5d5e24742>:7: SettingWithCopyWarning: \n",
            "A value is trying to be set on a copy of a slice from a DataFrame.\n",
            "Try using .loc[row_indexer,col_indexer] = value instead\n",
            "\n",
            "See the caveats in the documentation: https://pandas.pydata.org/pandas-docs/stable/user_guide/indexing.html#returning-a-view-versus-a-copy\n",
            "  dataset[column] = scaler.fit_transform(dataset[column].values.reshape(-1,1))\n",
            "<ipython-input-2425-dea5d5e24742>:7: SettingWithCopyWarning: \n",
            "A value is trying to be set on a copy of a slice from a DataFrame.\n",
            "Try using .loc[row_indexer,col_indexer] = value instead\n",
            "\n",
            "See the caveats in the documentation: https://pandas.pydata.org/pandas-docs/stable/user_guide/indexing.html#returning-a-view-versus-a-copy\n",
            "  dataset[column] = scaler.fit_transform(dataset[column].values.reshape(-1,1))\n",
            "<ipython-input-2425-dea5d5e24742>:7: SettingWithCopyWarning: \n",
            "A value is trying to be set on a copy of a slice from a DataFrame.\n",
            "Try using .loc[row_indexer,col_indexer] = value instead\n",
            "\n",
            "See the caveats in the documentation: https://pandas.pydata.org/pandas-docs/stable/user_guide/indexing.html#returning-a-view-versus-a-copy\n",
            "  dataset[column] = scaler.fit_transform(dataset[column].values.reshape(-1,1))\n",
            "<ipython-input-2425-dea5d5e24742>:7: SettingWithCopyWarning: \n",
            "A value is trying to be set on a copy of a slice from a DataFrame.\n",
            "Try using .loc[row_indexer,col_indexer] = value instead\n",
            "\n",
            "See the caveats in the documentation: https://pandas.pydata.org/pandas-docs/stable/user_guide/indexing.html#returning-a-view-versus-a-copy\n",
            "  dataset[column] = scaler.fit_transform(dataset[column].values.reshape(-1,1))\n",
            "<ipython-input-2425-dea5d5e24742>:7: SettingWithCopyWarning: \n",
            "A value is trying to be set on a copy of a slice from a DataFrame.\n",
            "Try using .loc[row_indexer,col_indexer] = value instead\n",
            "\n",
            "See the caveats in the documentation: https://pandas.pydata.org/pandas-docs/stable/user_guide/indexing.html#returning-a-view-versus-a-copy\n",
            "  dataset[column] = scaler.fit_transform(dataset[column].values.reshape(-1,1))\n",
            "<ipython-input-2425-dea5d5e24742>:7: SettingWithCopyWarning: \n",
            "A value is trying to be set on a copy of a slice from a DataFrame.\n",
            "Try using .loc[row_indexer,col_indexer] = value instead\n",
            "\n",
            "See the caveats in the documentation: https://pandas.pydata.org/pandas-docs/stable/user_guide/indexing.html#returning-a-view-versus-a-copy\n",
            "  dataset[column] = scaler.fit_transform(dataset[column].values.reshape(-1,1))\n",
            "<ipython-input-2425-dea5d5e24742>:7: SettingWithCopyWarning: \n",
            "A value is trying to be set on a copy of a slice from a DataFrame.\n",
            "Try using .loc[row_indexer,col_indexer] = value instead\n",
            "\n",
            "See the caveats in the documentation: https://pandas.pydata.org/pandas-docs/stable/user_guide/indexing.html#returning-a-view-versus-a-copy\n",
            "  dataset[column] = scaler.fit_transform(dataset[column].values.reshape(-1,1))\n",
            "<ipython-input-2425-dea5d5e24742>:7: SettingWithCopyWarning: \n",
            "A value is trying to be set on a copy of a slice from a DataFrame.\n",
            "Try using .loc[row_indexer,col_indexer] = value instead\n",
            "\n",
            "See the caveats in the documentation: https://pandas.pydata.org/pandas-docs/stable/user_guide/indexing.html#returning-a-view-versus-a-copy\n",
            "  dataset[column] = scaler.fit_transform(dataset[column].values.reshape(-1,1))\n",
            "<ipython-input-2425-dea5d5e24742>:7: SettingWithCopyWarning: \n",
            "A value is trying to be set on a copy of a slice from a DataFrame.\n",
            "Try using .loc[row_indexer,col_indexer] = value instead\n",
            "\n",
            "See the caveats in the documentation: https://pandas.pydata.org/pandas-docs/stable/user_guide/indexing.html#returning-a-view-versus-a-copy\n",
            "  dataset[column] = scaler.fit_transform(dataset[column].values.reshape(-1,1))\n",
            "<ipython-input-2425-dea5d5e24742>:7: SettingWithCopyWarning: \n",
            "A value is trying to be set on a copy of a slice from a DataFrame.\n",
            "Try using .loc[row_indexer,col_indexer] = value instead\n",
            "\n",
            "See the caveats in the documentation: https://pandas.pydata.org/pandas-docs/stable/user_guide/indexing.html#returning-a-view-versus-a-copy\n",
            "  dataset[column] = scaler.fit_transform(dataset[column].values.reshape(-1,1))\n",
            "<ipython-input-2425-dea5d5e24742>:7: SettingWithCopyWarning: \n",
            "A value is trying to be set on a copy of a slice from a DataFrame.\n",
            "Try using .loc[row_indexer,col_indexer] = value instead\n",
            "\n",
            "See the caveats in the documentation: https://pandas.pydata.org/pandas-docs/stable/user_guide/indexing.html#returning-a-view-versus-a-copy\n",
            "  dataset[column] = scaler.fit_transform(dataset[column].values.reshape(-1,1))\n"
          ]
        },
        {
          "output_type": "execute_result",
          "data": {
            "text/plain": [
              "      battery_power  blue  clock_speed  dual_sim        fc  four_g  \\\n",
              "0          0.227789   0.0         0.68       0.0  0.052632     0.0   \n",
              "1          0.347361   1.0         0.00       1.0  0.000000     1.0   \n",
              "2          0.041416   1.0         0.00       1.0  0.105263     1.0   \n",
              "3          0.076152   1.0         0.80       0.0  0.000000     0.0   \n",
              "4          0.881764   1.0         0.28       0.0  0.684211     1.0   \n",
              "...             ...   ...          ...       ...       ...     ...   \n",
              "1995       0.195725   1.0         0.00       1.0  0.000000     1.0   \n",
              "1996       0.977956   1.0         0.84       1.0  0.000000     0.0   \n",
              "1997       0.941884   0.0         0.16       1.0  0.052632     1.0   \n",
              "1998       0.675351   0.0         0.16       0.0  0.210526     1.0   \n",
              "1999       0.006012   1.0         0.60       1.0  0.263158     1.0   \n",
              "\n",
              "      int_memory     m_dep  mobile_wt   n_cores  ...  px_height  px_width  \\\n",
              "0       0.080645  0.555556   0.900000  0.142857  ...   0.010204  0.170895   \n",
              "1       0.822581  0.666667   0.466667  0.285714  ...   0.461735  0.993324   \n",
              "2       0.629032  0.888889   0.541667  0.571429  ...   0.644388  0.811749   \n",
              "3       0.129032  0.777778   0.425000  0.714286  ...   0.620408  0.858478   \n",
              "4       0.677419  0.555556   0.508333  0.142857  ...   0.616327  0.475300   \n",
              "...          ...       ...        ...       ...  ...        ...       ...   \n",
              "1995    0.000000  0.777778   0.216667  0.714286  ...   0.623469  0.927904   \n",
              "1996    0.596774  0.111111   0.891667  0.428571  ...   0.466837  0.977971   \n",
              "1997    0.548387  0.666667   0.233333  1.000000  ...   0.442857  0.755674   \n",
              "1998    0.709677  0.000000   0.541667  0.571429  ...   0.171429  0.113485   \n",
              "1999    0.693548  0.888889   0.733333  0.714286  ...   0.246429  0.169559   \n",
              "\n",
              "           ram      sc_h      sc_w  talk_time  three_g  touch_screen  wifi  \\\n",
              "0     0.612774  0.285714  0.352941   0.944444      0.0           0.0   1.0   \n",
              "1     0.634687  0.857143  0.117647   0.277778      1.0           1.0   0.0   \n",
              "2     0.627205  0.428571  0.058824   0.388889      1.0           1.0   0.0   \n",
              "3     0.671566  0.785714  0.411765   0.500000      1.0           0.0   0.0   \n",
              "4     0.308658  0.214286  0.058824   0.722222      1.0           1.0   0.0   \n",
              "...        ...       ...       ...        ...      ...           ...   ...   \n",
              "1995  0.110102  0.571429  0.176471   0.944444      1.0           1.0   0.0   \n",
              "1996  0.474613  0.428571  0.529412   0.777778      1.0           1.0   1.0   \n",
              "1997  0.748530  0.285714  0.000000   0.166667      1.0           1.0   0.0   \n",
              "1998  0.163816  0.928571  0.529412   0.944444      1.0           1.0   1.0   \n",
              "1999  0.978888  1.000000  0.176471   0.000000      1.0           1.0   1.0   \n",
              "\n",
              "      price_range  \n",
              "0               1  \n",
              "1               2  \n",
              "2               2  \n",
              "3               2  \n",
              "4               1  \n",
              "...           ...  \n",
              "1995            0  \n",
              "1996            2  \n",
              "1997            3  \n",
              "1998            0  \n",
              "1999            3  \n",
              "\n",
              "[1820 rows x 21 columns]"
            ],
            "text/html": [
              "\n",
              "  <div id=\"df-c376688e-c7d0-49f3-9800-a98c6c73b3b9\">\n",
              "    <div class=\"colab-df-container\">\n",
              "      <div>\n",
              "<style scoped>\n",
              "    .dataframe tbody tr th:only-of-type {\n",
              "        vertical-align: middle;\n",
              "    }\n",
              "\n",
              "    .dataframe tbody tr th {\n",
              "        vertical-align: top;\n",
              "    }\n",
              "\n",
              "    .dataframe thead th {\n",
              "        text-align: right;\n",
              "    }\n",
              "</style>\n",
              "<table border=\"1\" class=\"dataframe\">\n",
              "  <thead>\n",
              "    <tr style=\"text-align: right;\">\n",
              "      <th></th>\n",
              "      <th>battery_power</th>\n",
              "      <th>blue</th>\n",
              "      <th>clock_speed</th>\n",
              "      <th>dual_sim</th>\n",
              "      <th>fc</th>\n",
              "      <th>four_g</th>\n",
              "      <th>int_memory</th>\n",
              "      <th>m_dep</th>\n",
              "      <th>mobile_wt</th>\n",
              "      <th>n_cores</th>\n",
              "      <th>...</th>\n",
              "      <th>px_height</th>\n",
              "      <th>px_width</th>\n",
              "      <th>ram</th>\n",
              "      <th>sc_h</th>\n",
              "      <th>sc_w</th>\n",
              "      <th>talk_time</th>\n",
              "      <th>three_g</th>\n",
              "      <th>touch_screen</th>\n",
              "      <th>wifi</th>\n",
              "      <th>price_range</th>\n",
              "    </tr>\n",
              "  </thead>\n",
              "  <tbody>\n",
              "    <tr>\n",
              "      <th>0</th>\n",
              "      <td>0.227789</td>\n",
              "      <td>0.0</td>\n",
              "      <td>0.68</td>\n",
              "      <td>0.0</td>\n",
              "      <td>0.052632</td>\n",
              "      <td>0.0</td>\n",
              "      <td>0.080645</td>\n",
              "      <td>0.555556</td>\n",
              "      <td>0.900000</td>\n",
              "      <td>0.142857</td>\n",
              "      <td>...</td>\n",
              "      <td>0.010204</td>\n",
              "      <td>0.170895</td>\n",
              "      <td>0.612774</td>\n",
              "      <td>0.285714</td>\n",
              "      <td>0.352941</td>\n",
              "      <td>0.944444</td>\n",
              "      <td>0.0</td>\n",
              "      <td>0.0</td>\n",
              "      <td>1.0</td>\n",
              "      <td>1</td>\n",
              "    </tr>\n",
              "    <tr>\n",
              "      <th>1</th>\n",
              "      <td>0.347361</td>\n",
              "      <td>1.0</td>\n",
              "      <td>0.00</td>\n",
              "      <td>1.0</td>\n",
              "      <td>0.000000</td>\n",
              "      <td>1.0</td>\n",
              "      <td>0.822581</td>\n",
              "      <td>0.666667</td>\n",
              "      <td>0.466667</td>\n",
              "      <td>0.285714</td>\n",
              "      <td>...</td>\n",
              "      <td>0.461735</td>\n",
              "      <td>0.993324</td>\n",
              "      <td>0.634687</td>\n",
              "      <td>0.857143</td>\n",
              "      <td>0.117647</td>\n",
              "      <td>0.277778</td>\n",
              "      <td>1.0</td>\n",
              "      <td>1.0</td>\n",
              "      <td>0.0</td>\n",
              "      <td>2</td>\n",
              "    </tr>\n",
              "    <tr>\n",
              "      <th>2</th>\n",
              "      <td>0.041416</td>\n",
              "      <td>1.0</td>\n",
              "      <td>0.00</td>\n",
              "      <td>1.0</td>\n",
              "      <td>0.105263</td>\n",
              "      <td>1.0</td>\n",
              "      <td>0.629032</td>\n",
              "      <td>0.888889</td>\n",
              "      <td>0.541667</td>\n",
              "      <td>0.571429</td>\n",
              "      <td>...</td>\n",
              "      <td>0.644388</td>\n",
              "      <td>0.811749</td>\n",
              "      <td>0.627205</td>\n",
              "      <td>0.428571</td>\n",
              "      <td>0.058824</td>\n",
              "      <td>0.388889</td>\n",
              "      <td>1.0</td>\n",
              "      <td>1.0</td>\n",
              "      <td>0.0</td>\n",
              "      <td>2</td>\n",
              "    </tr>\n",
              "    <tr>\n",
              "      <th>3</th>\n",
              "      <td>0.076152</td>\n",
              "      <td>1.0</td>\n",
              "      <td>0.80</td>\n",
              "      <td>0.0</td>\n",
              "      <td>0.000000</td>\n",
              "      <td>0.0</td>\n",
              "      <td>0.129032</td>\n",
              "      <td>0.777778</td>\n",
              "      <td>0.425000</td>\n",
              "      <td>0.714286</td>\n",
              "      <td>...</td>\n",
              "      <td>0.620408</td>\n",
              "      <td>0.858478</td>\n",
              "      <td>0.671566</td>\n",
              "      <td>0.785714</td>\n",
              "      <td>0.411765</td>\n",
              "      <td>0.500000</td>\n",
              "      <td>1.0</td>\n",
              "      <td>0.0</td>\n",
              "      <td>0.0</td>\n",
              "      <td>2</td>\n",
              "    </tr>\n",
              "    <tr>\n",
              "      <th>4</th>\n",
              "      <td>0.881764</td>\n",
              "      <td>1.0</td>\n",
              "      <td>0.28</td>\n",
              "      <td>0.0</td>\n",
              "      <td>0.684211</td>\n",
              "      <td>1.0</td>\n",
              "      <td>0.677419</td>\n",
              "      <td>0.555556</td>\n",
              "      <td>0.508333</td>\n",
              "      <td>0.142857</td>\n",
              "      <td>...</td>\n",
              "      <td>0.616327</td>\n",
              "      <td>0.475300</td>\n",
              "      <td>0.308658</td>\n",
              "      <td>0.214286</td>\n",
              "      <td>0.058824</td>\n",
              "      <td>0.722222</td>\n",
              "      <td>1.0</td>\n",
              "      <td>1.0</td>\n",
              "      <td>0.0</td>\n",
              "      <td>1</td>\n",
              "    </tr>\n",
              "    <tr>\n",
              "      <th>...</th>\n",
              "      <td>...</td>\n",
              "      <td>...</td>\n",
              "      <td>...</td>\n",
              "      <td>...</td>\n",
              "      <td>...</td>\n",
              "      <td>...</td>\n",
              "      <td>...</td>\n",
              "      <td>...</td>\n",
              "      <td>...</td>\n",
              "      <td>...</td>\n",
              "      <td>...</td>\n",
              "      <td>...</td>\n",
              "      <td>...</td>\n",
              "      <td>...</td>\n",
              "      <td>...</td>\n",
              "      <td>...</td>\n",
              "      <td>...</td>\n",
              "      <td>...</td>\n",
              "      <td>...</td>\n",
              "      <td>...</td>\n",
              "      <td>...</td>\n",
              "    </tr>\n",
              "    <tr>\n",
              "      <th>1995</th>\n",
              "      <td>0.195725</td>\n",
              "      <td>1.0</td>\n",
              "      <td>0.00</td>\n",
              "      <td>1.0</td>\n",
              "      <td>0.000000</td>\n",
              "      <td>1.0</td>\n",
              "      <td>0.000000</td>\n",
              "      <td>0.777778</td>\n",
              "      <td>0.216667</td>\n",
              "      <td>0.714286</td>\n",
              "      <td>...</td>\n",
              "      <td>0.623469</td>\n",
              "      <td>0.927904</td>\n",
              "      <td>0.110102</td>\n",
              "      <td>0.571429</td>\n",
              "      <td>0.176471</td>\n",
              "      <td>0.944444</td>\n",
              "      <td>1.0</td>\n",
              "      <td>1.0</td>\n",
              "      <td>0.0</td>\n",
              "      <td>0</td>\n",
              "    </tr>\n",
              "    <tr>\n",
              "      <th>1996</th>\n",
              "      <td>0.977956</td>\n",
              "      <td>1.0</td>\n",
              "      <td>0.84</td>\n",
              "      <td>1.0</td>\n",
              "      <td>0.000000</td>\n",
              "      <td>0.0</td>\n",
              "      <td>0.596774</td>\n",
              "      <td>0.111111</td>\n",
              "      <td>0.891667</td>\n",
              "      <td>0.428571</td>\n",
              "      <td>...</td>\n",
              "      <td>0.466837</td>\n",
              "      <td>0.977971</td>\n",
              "      <td>0.474613</td>\n",
              "      <td>0.428571</td>\n",
              "      <td>0.529412</td>\n",
              "      <td>0.777778</td>\n",
              "      <td>1.0</td>\n",
              "      <td>1.0</td>\n",
              "      <td>1.0</td>\n",
              "      <td>2</td>\n",
              "    </tr>\n",
              "    <tr>\n",
              "      <th>1997</th>\n",
              "      <td>0.941884</td>\n",
              "      <td>0.0</td>\n",
              "      <td>0.16</td>\n",
              "      <td>1.0</td>\n",
              "      <td>0.052632</td>\n",
              "      <td>1.0</td>\n",
              "      <td>0.548387</td>\n",
              "      <td>0.666667</td>\n",
              "      <td>0.233333</td>\n",
              "      <td>1.000000</td>\n",
              "      <td>...</td>\n",
              "      <td>0.442857</td>\n",
              "      <td>0.755674</td>\n",
              "      <td>0.748530</td>\n",
              "      <td>0.285714</td>\n",
              "      <td>0.000000</td>\n",
              "      <td>0.166667</td>\n",
              "      <td>1.0</td>\n",
              "      <td>1.0</td>\n",
              "      <td>0.0</td>\n",
              "      <td>3</td>\n",
              "    </tr>\n",
              "    <tr>\n",
              "      <th>1998</th>\n",
              "      <td>0.675351</td>\n",
              "      <td>0.0</td>\n",
              "      <td>0.16</td>\n",
              "      <td>0.0</td>\n",
              "      <td>0.210526</td>\n",
              "      <td>1.0</td>\n",
              "      <td>0.709677</td>\n",
              "      <td>0.000000</td>\n",
              "      <td>0.541667</td>\n",
              "      <td>0.571429</td>\n",
              "      <td>...</td>\n",
              "      <td>0.171429</td>\n",
              "      <td>0.113485</td>\n",
              "      <td>0.163816</td>\n",
              "      <td>0.928571</td>\n",
              "      <td>0.529412</td>\n",
              "      <td>0.944444</td>\n",
              "      <td>1.0</td>\n",
              "      <td>1.0</td>\n",
              "      <td>1.0</td>\n",
              "      <td>0</td>\n",
              "    </tr>\n",
              "    <tr>\n",
              "      <th>1999</th>\n",
              "      <td>0.006012</td>\n",
              "      <td>1.0</td>\n",
              "      <td>0.60</td>\n",
              "      <td>1.0</td>\n",
              "      <td>0.263158</td>\n",
              "      <td>1.0</td>\n",
              "      <td>0.693548</td>\n",
              "      <td>0.888889</td>\n",
              "      <td>0.733333</td>\n",
              "      <td>0.714286</td>\n",
              "      <td>...</td>\n",
              "      <td>0.246429</td>\n",
              "      <td>0.169559</td>\n",
              "      <td>0.978888</td>\n",
              "      <td>1.000000</td>\n",
              "      <td>0.176471</td>\n",
              "      <td>0.000000</td>\n",
              "      <td>1.0</td>\n",
              "      <td>1.0</td>\n",
              "      <td>1.0</td>\n",
              "      <td>3</td>\n",
              "    </tr>\n",
              "  </tbody>\n",
              "</table>\n",
              "<p>1820 rows × 21 columns</p>\n",
              "</div>\n",
              "      <button class=\"colab-df-convert\" onclick=\"convertToInteractive('df-c376688e-c7d0-49f3-9800-a98c6c73b3b9')\"\n",
              "              title=\"Convert this dataframe to an interactive table.\"\n",
              "              style=\"display:none;\">\n",
              "        \n",
              "  <svg xmlns=\"http://www.w3.org/2000/svg\" height=\"24px\"viewBox=\"0 0 24 24\"\n",
              "       width=\"24px\">\n",
              "    <path d=\"M0 0h24v24H0V0z\" fill=\"none\"/>\n",
              "    <path d=\"M18.56 5.44l.94 2.06.94-2.06 2.06-.94-2.06-.94-.94-2.06-.94 2.06-2.06.94zm-11 1L8.5 8.5l.94-2.06 2.06-.94-2.06-.94L8.5 2.5l-.94 2.06-2.06.94zm10 10l.94 2.06.94-2.06 2.06-.94-2.06-.94-.94-2.06-.94 2.06-2.06.94z\"/><path d=\"M17.41 7.96l-1.37-1.37c-.4-.4-.92-.59-1.43-.59-.52 0-1.04.2-1.43.59L10.3 9.45l-7.72 7.72c-.78.78-.78 2.05 0 2.83L4 21.41c.39.39.9.59 1.41.59.51 0 1.02-.2 1.41-.59l7.78-7.78 2.81-2.81c.8-.78.8-2.07 0-2.86zM5.41 20L4 18.59l7.72-7.72 1.47 1.35L5.41 20z\"/>\n",
              "  </svg>\n",
              "      </button>\n",
              "      \n",
              "  <style>\n",
              "    .colab-df-container {\n",
              "      display:flex;\n",
              "      flex-wrap:wrap;\n",
              "      gap: 12px;\n",
              "    }\n",
              "\n",
              "    .colab-df-convert {\n",
              "      background-color: #E8F0FE;\n",
              "      border: none;\n",
              "      border-radius: 50%;\n",
              "      cursor: pointer;\n",
              "      display: none;\n",
              "      fill: #1967D2;\n",
              "      height: 32px;\n",
              "      padding: 0 0 0 0;\n",
              "      width: 32px;\n",
              "    }\n",
              "\n",
              "    .colab-df-convert:hover {\n",
              "      background-color: #E2EBFA;\n",
              "      box-shadow: 0px 1px 2px rgba(60, 64, 67, 0.3), 0px 1px 3px 1px rgba(60, 64, 67, 0.15);\n",
              "      fill: #174EA6;\n",
              "    }\n",
              "\n",
              "    [theme=dark] .colab-df-convert {\n",
              "      background-color: #3B4455;\n",
              "      fill: #D2E3FC;\n",
              "    }\n",
              "\n",
              "    [theme=dark] .colab-df-convert:hover {\n",
              "      background-color: #434B5C;\n",
              "      box-shadow: 0px 1px 3px 1px rgba(0, 0, 0, 0.15);\n",
              "      filter: drop-shadow(0px 1px 2px rgba(0, 0, 0, 0.3));\n",
              "      fill: #FFFFFF;\n",
              "    }\n",
              "  </style>\n",
              "\n",
              "      <script>\n",
              "        const buttonEl =\n",
              "          document.querySelector('#df-c376688e-c7d0-49f3-9800-a98c6c73b3b9 button.colab-df-convert');\n",
              "        buttonEl.style.display =\n",
              "          google.colab.kernel.accessAllowed ? 'block' : 'none';\n",
              "\n",
              "        async function convertToInteractive(key) {\n",
              "          const element = document.querySelector('#df-c376688e-c7d0-49f3-9800-a98c6c73b3b9');\n",
              "          const dataTable =\n",
              "            await google.colab.kernel.invokeFunction('convertToInteractive',\n",
              "                                                     [key], {});\n",
              "          if (!dataTable) return;\n",
              "\n",
              "          const docLinkHtml = 'Like what you see? Visit the ' +\n",
              "            '<a target=\"_blank\" href=https://colab.research.google.com/notebooks/data_table.ipynb>data table notebook</a>'\n",
              "            + ' to learn more about interactive tables.';\n",
              "          element.innerHTML = '';\n",
              "          dataTable['output_type'] = 'display_data';\n",
              "          await google.colab.output.renderOutput(dataTable, element);\n",
              "          const docLink = document.createElement('div');\n",
              "          docLink.innerHTML = docLinkHtml;\n",
              "          element.appendChild(docLink);\n",
              "        }\n",
              "      </script>\n",
              "    </div>\n",
              "  </div>\n",
              "  "
            ]
          },
          "metadata": {},
          "execution_count": 2425
        }
      ]
    },
    {
      "cell_type": "markdown",
      "source": [
        "# Feature Extraction"
      ],
      "metadata": {
        "id": "vDPUBO3S8pmj"
      }
    },
    {
      "cell_type": "code",
      "source": [
        "import matplotlib.pyplot as plt\n",
        "import seaborn as sb\n",
        "#lets see correlation between features and targets  \n",
        "fig = plt.subplots (figsize = (20, 20))\n",
        "corr = dataset.corr()\n",
        "sb.heatmap(corr, square = True, cbar = True, annot = True, cmap=\"Blues\", annot_kws = {'size': 8})\n",
        "plt.title('Correlations between features')\n",
        "plt.show ()"
      ],
      "metadata": {
        "colab": {
          "base_uri": "https://localhost:8080/",
          "height": 1000
        },
        "id": "qY_eK9lx-RwP",
        "outputId": "3ffa3793-cde4-4e94-b9d9-6180eae0590f"
      },
      "execution_count": 2426,
      "outputs": [
        {
          "output_type": "display_data",
          "data": {
            "text/plain": [
              "<Figure size 1440x1440 with 2 Axes>"
            ],
            "image/png": "[encoded data removed]"
          },
          "metadata": {
            "needs_background": "light"
          }
        }
      ]
    },
    {
      "cell_type": "markdown",
      "source": [
        "price_range depends on ram,px_width,px_height,battery_power attributes more than other attributes. lets consider the attributes with coorelation value > 0.015"
      ],
      "metadata": {
        "id": "PmRCgG36-htW"
      }
    },
    {
      "cell_type": "code",
      "source": [
        "cor_target = abs(corr[\"price_range\"])\n",
        "relevant_features = cor_target[cor_target>0.015]\n",
        "relevant_features"
      ],
      "metadata": {
        "colab": {
          "base_uri": "https://localhost:8080/"
        },
        "id": "X3qhVMQhAxQF",
        "outputId": "4f9477cc-32f9-477c-f1ea-c3c0bcd72786"
      },
      "execution_count": 2427,
      "outputs": [
        {
          "output_type": "execute_result",
          "data": {
            "text/plain": [
              "battery_power    0.194030\n",
              "blue             0.028416\n",
              "dual_sim         0.023006\n",
              "fc               0.017603\n",
              "int_memory       0.051887\n",
              "mobile_wt        0.023872\n",
              "pc               0.023218\n",
              "px_height        0.150052\n",
              "px_width         0.150561\n",
              "ram              0.917026\n",
              "sc_h             0.024488\n",
              "sc_w             0.031852\n",
              "three_g          0.016767\n",
              "touch_screen     0.034013\n",
              "wifi             0.020901\n",
              "price_range      1.000000\n",
              "Name: price_range, dtype: float64"
            ]
          },
          "metadata": {},
          "execution_count": 2427
        }
      ]
    },
    {
      "cell_type": "code",
      "source": [
        "columns = ['battery_power', 'blue','dual_sim', 'int_memory', 'mobile_wt','pc', 'sc_h', 'sc_w', 'touch_screen', 'wifi', 'px_height','px_width','ram','price_range'];\n",
        "selected_columns = dataset[columns]\n",
        "dataset2 = selected_columns.copy()\n",
        "dataset2\n",
        "#'battery_power', 'blue','dual_sim','fc', 'int_memory', 'mobile_wt','pc','px_height','px_width','ram', 'sc_h', 'sc_w','three_g', 'touch_screen', 'wifi','price_range'"
      ],
      "metadata": {
        "colab": {
          "base_uri": "https://localhost:8080/",
          "height": 424
        },
        "id": "oZyHcSGoAAm2",
        "outputId": "2017d68f-b8c6-4dca-801b-36cc1b6f5edb"
      },
      "execution_count": 2428,
      "outputs": [
        {
          "output_type": "execute_result",
          "data": {
            "text/plain": [
              "      battery_power  blue  dual_sim  int_memory  mobile_wt    pc      sc_h  \\\n",
              "0          0.227789   0.0       0.0    0.080645   0.900000  0.10  0.285714   \n",
              "1          0.347361   1.0       1.0    0.822581   0.466667  0.30  0.857143   \n",
              "2          0.041416   1.0       1.0    0.629032   0.541667  0.30  0.428571   \n",
              "3          0.076152   1.0       0.0    0.129032   0.425000  0.45  0.785714   \n",
              "4          0.881764   1.0       0.0    0.677419   0.508333  0.70  0.214286   \n",
              "...             ...   ...       ...         ...        ...   ...       ...   \n",
              "1995       0.195725   1.0       1.0    0.000000   0.216667  0.70  0.571429   \n",
              "1996       0.977956   1.0       1.0    0.596774   0.891667  0.15  0.428571   \n",
              "1997       0.941884   0.0       1.0    0.548387   0.233333  0.15  0.285714   \n",
              "1998       0.675351   0.0       0.0    0.709677   0.541667  0.25  0.928571   \n",
              "1999       0.006012   1.0       1.0    0.693548   0.733333  0.80  1.000000   \n",
              "\n",
              "          sc_w  touch_screen  wifi  px_height  px_width       ram  price_range  \n",
              "0     0.352941           0.0   1.0   0.010204  0.170895  0.612774            1  \n",
              "1     0.117647           1.0   0.0   0.461735  0.993324  0.634687            2  \n",
              "2     0.058824           1.0   0.0   0.644388  0.811749  0.627205            2  \n",
              "3     0.411765           0.0   0.0   0.620408  0.858478  0.671566            2  \n",
              "4     0.058824           1.0   0.0   0.616327  0.475300  0.308658            1  \n",
              "...        ...           ...   ...        ...       ...       ...          ...  \n",
              "1995  0.176471           1.0   0.0   0.623469  0.927904  0.110102            0  \n",
              "1996  0.529412           1.0   1.0   0.466837  0.977971  0.474613            2  \n",
              "1997  0.000000           1.0   0.0   0.442857  0.755674  0.748530            3  \n",
              "1998  0.529412           1.0   1.0   0.171429  0.113485  0.163816            0  \n",
              "1999  0.176471           1.0   1.0   0.246429  0.169559  0.978888            3  \n",
              "\n",
              "[1820 rows x 14 columns]"
            ],
            "text/html": [
              "\n",
              "  <div id=\"df-a26c77aa-5d2a-4843-94c5-9def4d73e065\">\n",
              "    <div class=\"colab-df-container\">\n",
              "      <div>\n",
              "<style scoped>\n",
              "    .dataframe tbody tr th:only-of-type {\n",
              "        vertical-align: middle;\n",
              "    }\n",
              "\n",
              "    .dataframe tbody tr th {\n",
              "        vertical-align: top;\n",
              "    }\n",
              "\n",
              "    .dataframe thead th {\n",
              "        text-align: right;\n",
              "    }\n",
              "</style>\n",
              "<table border=\"1\" class=\"dataframe\">\n",
              "  <thead>\n",
              "    <tr style=\"text-align: right;\">\n",
              "      <th></th>\n",
              "      <th>battery_power</th>\n",
              "      <th>blue</th>\n",
              "      <th>dual_sim</th>\n",
              "      <th>int_memory</th>\n",
              "      <th>mobile_wt</th>\n",
              "      <th>pc</th>\n",
              "      <th>sc_h</th>\n",
              "      <th>sc_w</th>\n",
              "      <th>touch_screen</th>\n",
              "      <th>wifi</th>\n",
              "      <th>px_height</th>\n",
              "      <th>px_width</th>\n",
              "      <th>ram</th>\n",
              "      <th>price_range</th>\n",
              "    </tr>\n",
              "  </thead>\n",
              "  <tbody>\n",
              "    <tr>\n",
              "      <th>0</th>\n",
              "      <td>0.227789</td>\n",
              "      <td>0.0</td>\n",
              "      <td>0.0</td>\n",
              "      <td>0.080645</td>\n",
              "      <td>0.900000</td>\n",
              "      <td>0.10</td>\n",
              "      <td>0.285714</td>\n",
              "      <td>0.352941</td>\n",
              "      <td>0.0</td>\n",
              "      <td>1.0</td>\n",
              "      <td>0.010204</td>\n",
              "      <td>0.170895</td>\n",
              "      <td>0.612774</td>\n",
              "      <td>1</td>\n",
              "    </tr>\n",
              "    <tr>\n",
              "      <th>1</th>\n",
              "      <td>0.347361</td>\n",
              "      <td>1.0</td>\n",
              "      <td>1.0</td>\n",
              "      <td>0.822581</td>\n",
              "      <td>0.466667</td>\n",
              "      <td>0.30</td>\n",
              "      <td>0.857143</td>\n",
              "      <td>0.117647</td>\n",
              "      <td>1.0</td>\n",
              "      <td>0.0</td>\n",
              "      <td>0.461735</td>\n",
              "      <td>0.993324</td>\n",
              "      <td>0.634687</td>\n",
              "      <td>2</td>\n",
              "    </tr>\n",
              "    <tr>\n",
              "      <th>2</th>\n",
              "      <td>0.041416</td>\n",
              "      <td>1.0</td>\n",
              "      <td>1.0</td>\n",
              "      <td>0.629032</td>\n",
              "      <td>0.541667</td>\n",
              "      <td>0.30</td>\n",
              "      <td>0.428571</td>\n",
              "      <td>0.058824</td>\n",
              "      <td>1.0</td>\n",
              "      <td>0.0</td>\n",
              "      <td>0.644388</td>\n",
              "      <td>0.811749</td>\n",
              "      <td>0.627205</td>\n",
              "      <td>2</td>\n",
              "    </tr>\n",
              "    <tr>\n",
              "      <th>3</th>\n",
              "      <td>0.076152</td>\n",
              "      <td>1.0</td>\n",
              "      <td>0.0</td>\n",
              "      <td>0.129032</td>\n",
              "      <td>0.425000</td>\n",
              "      <td>0.45</td>\n",
              "      <td>0.785714</td>\n",
              "      <td>0.411765</td>\n",
              "      <td>0.0</td>\n",
              "      <td>0.0</td>\n",
              "      <td>0.620408</td>\n",
              "      <td>0.858478</td>\n",
              "      <td>0.671566</td>\n",
              "      <td>2</td>\n",
              "    </tr>\n",
              "    <tr>\n",
              "      <th>4</th>\n",
              "      <td>0.881764</td>\n",
              "      <td>1.0</td>\n",
              "      <td>0.0</td>\n",
              "      <td>0.677419</td>\n",
              "      <td>0.508333</td>\n",
              "      <td>0.70</td>\n",
              "      <td>0.214286</td>\n",
              "      <td>0.058824</td>\n",
              "      <td>1.0</td>\n",
              "      <td>0.0</td>\n",
              "      <td>0.616327</td>\n",
              "      <td>0.475300</td>\n",
              "      <td>0.308658</td>\n",
              "      <td>1</td>\n",
              "    </tr>\n",
              "    <tr>\n",
              "      <th>...</th>\n",
              "      <td>...</td>\n",
              "      <td>...</td>\n",
              "      <td>...</td>\n",
              "      <td>...</td>\n",
              "      <td>...</td>\n",
              "      <td>...</td>\n",
              "      <td>...</td>\n",
              "      <td>...</td>\n",
              "      <td>...</td>\n",
              "      <td>...</td>\n",
              "      <td>...</td>\n",
              "      <td>...</td>\n",
              "      <td>...</td>\n",
              "      <td>...</td>\n",
              "    </tr>\n",
              "    <tr>\n",
              "      <th>1995</th>\n",
              "      <td>0.195725</td>\n",
              "      <td>1.0</td>\n",
              "      <td>1.0</td>\n",
              "      <td>0.000000</td>\n",
              "      <td>0.216667</td>\n",
              "      <td>0.70</td>\n",
              "      <td>0.571429</td>\n",
              "      <td>0.176471</td>\n",
              "      <td>1.0</td>\n",
              "      <td>0.0</td>\n",
              "      <td>0.623469</td>\n",
              "      <td>0.927904</td>\n",
              "      <td>0.110102</td>\n",
              "      <td>0</td>\n",
              "    </tr>\n",
              "    <tr>\n",
              "      <th>1996</th>\n",
              "      <td>0.977956</td>\n",
              "      <td>1.0</td>\n",
              "      <td>1.0</td>\n",
              "      <td>0.596774</td>\n",
              "      <td>0.891667</td>\n",
              "      <td>0.15</td>\n",
              "      <td>0.428571</td>\n",
              "      <td>0.529412</td>\n",
              "      <td>1.0</td>\n",
              "      <td>1.0</td>\n",
              "      <td>0.466837</td>\n",
              "      <td>0.977971</td>\n",
              "      <td>0.474613</td>\n",
              "      <td>2</td>\n",
              "    </tr>\n",
              "    <tr>\n",
              "      <th>1997</th>\n",
              "      <td>0.941884</td>\n",
              "      <td>0.0</td>\n",
              "      <td>1.0</td>\n",
              "      <td>0.548387</td>\n",
              "      <td>0.233333</td>\n",
              "      <td>0.15</td>\n",
              "      <td>0.285714</td>\n",
              "      <td>0.000000</td>\n",
              "      <td>1.0</td>\n",
              "      <td>0.0</td>\n",
              "      <td>0.442857</td>\n",
              "      <td>0.755674</td>\n",
              "      <td>0.748530</td>\n",
              "      <td>3</td>\n",
              "    </tr>\n",
              "    <tr>\n",
              "      <th>1998</th>\n",
              "      <td>0.675351</td>\n",
              "      <td>0.0</td>\n",
              "      <td>0.0</td>\n",
              "      <td>0.709677</td>\n",
              "      <td>0.541667</td>\n",
              "      <td>0.25</td>\n",
              "      <td>0.928571</td>\n",
              "      <td>0.529412</td>\n",
              "      <td>1.0</td>\n",
              "      <td>1.0</td>\n",
              "      <td>0.171429</td>\n",
              "      <td>0.113485</td>\n",
              "      <td>0.163816</td>\n",
              "      <td>0</td>\n",
              "    </tr>\n",
              "    <tr>\n",
              "      <th>1999</th>\n",
              "      <td>0.006012</td>\n",
              "      <td>1.0</td>\n",
              "      <td>1.0</td>\n",
              "      <td>0.693548</td>\n",
              "      <td>0.733333</td>\n",
              "      <td>0.80</td>\n",
              "      <td>1.000000</td>\n",
              "      <td>0.176471</td>\n",
              "      <td>1.0</td>\n",
              "      <td>1.0</td>\n",
              "      <td>0.246429</td>\n",
              "      <td>0.169559</td>\n",
              "      <td>0.978888</td>\n",
              "      <td>3</td>\n",
              "    </tr>\n",
              "  </tbody>\n",
              "</table>\n",
              "<p>1820 rows × 14 columns</p>\n",
              "</div>\n",
              "      <button class=\"colab-df-convert\" onclick=\"convertToInteractive('df-a26c77aa-5d2a-4843-94c5-9def4d73e065')\"\n",
              "              title=\"Convert this dataframe to an interactive table.\"\n",
              "              style=\"display:none;\">\n",
              "        \n",
              "  <svg xmlns=\"http://www.w3.org/2000/svg\" height=\"24px\"viewBox=\"0 0 24 24\"\n",
              "       width=\"24px\">\n",
              "    <path d=\"M0 0h24v24H0V0z\" fill=\"none\"/>\n",
              "    <path d=\"M18.56 5.44l.94 2.06.94-2.06 2.06-.94-2.06-.94-.94-2.06-.94 2.06-2.06.94zm-11 1L8.5 8.5l.94-2.06 2.06-.94-2.06-.94L8.5 2.5l-.94 2.06-2.06.94zm10 10l.94 2.06.94-2.06 2.06-.94-2.06-.94-.94-2.06-.94 2.06-2.06.94z\"/><path d=\"M17.41 7.96l-1.37-1.37c-.4-.4-.92-.59-1.43-.59-.52 0-1.04.2-1.43.59L10.3 9.45l-7.72 7.72c-.78.78-.78 2.05 0 2.83L4 21.41c.39.39.9.59 1.41.59.51 0 1.02-.2 1.41-.59l7.78-7.78 2.81-2.81c.8-.78.8-2.07 0-2.86zM5.41 20L4 18.59l7.72-7.72 1.47 1.35L5.41 20z\"/>\n",
              "  </svg>\n",
              "      </button>\n",
              "      \n",
              "  <style>\n",
              "    .colab-df-container {\n",
              "      display:flex;\n",
              "      flex-wrap:wrap;\n",
              "      gap: 12px;\n",
              "    }\n",
              "\n",
              "    .colab-df-convert {\n",
              "      background-color: #E8F0FE;\n",
              "      border: none;\n",
              "      border-radius: 50%;\n",
              "      cursor: pointer;\n",
              "      display: none;\n",
              "      fill: #1967D2;\n",
              "      height: 32px;\n",
              "      padding: 0 0 0 0;\n",
              "      width: 32px;\n",
              "    }\n",
              "\n",
              "    .colab-df-convert:hover {\n",
              "      background-color: #E2EBFA;\n",
              "      box-shadow: 0px 1px 2px rgba(60, 64, 67, 0.3), 0px 1px 3px 1px rgba(60, 64, 67, 0.15);\n",
              "      fill: #174EA6;\n",
              "    }\n",
              "\n",
              "    [theme=dark] .colab-df-convert {\n",
              "      background-color: #3B4455;\n",
              "      fill: #D2E3FC;\n",
              "    }\n",
              "\n",
              "    [theme=dark] .colab-df-convert:hover {\n",
              "      background-color: #434B5C;\n",
              "      box-shadow: 0px 1px 3px 1px rgba(0, 0, 0, 0.15);\n",
              "      filter: drop-shadow(0px 1px 2px rgba(0, 0, 0, 0.3));\n",
              "      fill: #FFFFFF;\n",
              "    }\n",
              "  </style>\n",
              "\n",
              "      <script>\n",
              "        const buttonEl =\n",
              "          document.querySelector('#df-a26c77aa-5d2a-4843-94c5-9def4d73e065 button.colab-df-convert');\n",
              "        buttonEl.style.display =\n",
              "          google.colab.kernel.accessAllowed ? 'block' : 'none';\n",
              "\n",
              "        async function convertToInteractive(key) {\n",
              "          const element = document.querySelector('#df-a26c77aa-5d2a-4843-94c5-9def4d73e065');\n",
              "          const dataTable =\n",
              "            await google.colab.kernel.invokeFunction('convertToInteractive',\n",
              "                                                     [key], {});\n",
              "          if (!dataTable) return;\n",
              "\n",
              "          const docLinkHtml = 'Like what you see? Visit the ' +\n",
              "            '<a target=\"_blank\" href=https://colab.research.google.com/notebooks/data_table.ipynb>data table notebook</a>'\n",
              "            + ' to learn more about interactive tables.';\n",
              "          element.innerHTML = '';\n",
              "          dataTable['output_type'] = 'display_data';\n",
              "          await google.colab.output.renderOutput(dataTable, element);\n",
              "          const docLink = document.createElement('div');\n",
              "          docLink.innerHTML = docLinkHtml;\n",
              "          element.appendChild(docLink);\n",
              "        }\n",
              "      </script>\n",
              "    </div>\n",
              "  </div>\n",
              "  "
            ]
          },
          "metadata": {},
          "execution_count": 2428
        }
      ]
    },
    {
      "cell_type": "markdown",
      "source": [
        "# split the data set as features and labels"
      ],
      "metadata": {
        "id": "-cddJU355Fkh"
      }
    },
    {
      "cell_type": "code",
      "source": [
        "X = dataset2.drop(['price_range'], axis=1) # drop outcome column from inputs\n",
        "Y = dataset2['price_range']"
      ],
      "metadata": {
        "id": "4vhh1m665K11"
      },
      "execution_count": 2429,
      "outputs": []
    },
    {
      "cell_type": "code",
      "source": [
        "Y.unique()"
      ],
      "metadata": {
        "colab": {
          "base_uri": "https://localhost:8080/"
        },
        "id": "3GESyIpl8YoW",
        "outputId": "a1fc9c29-50e0-4619-e4f4-42efbd256432"
      },
      "execution_count": 2430,
      "outputs": [
        {
          "output_type": "execute_result",
          "data": {
            "text/plain": [
              "array([1, 2, 3, 0])"
            ]
          },
          "metadata": {},
          "execution_count": 2430
        }
      ]
    },
    {
      "cell_type": "code",
      "source": [
        "mobile_feature_list = list(X.columns)\n",
        "mobile_feature_list"
      ],
      "metadata": {
        "colab": {
          "base_uri": "https://localhost:8080/"
        },
        "id": "5hoUXuIy8bA1",
        "outputId": "3ce7464e-616a-4b17-c4a3-acdb2c536a12"
      },
      "execution_count": 2431,
      "outputs": [
        {
          "output_type": "execute_result",
          "data": {
            "text/plain": [
              "['battery_power',\n",
              " 'blue',\n",
              " 'dual_sim',\n",
              " 'int_memory',\n",
              " 'mobile_wt',\n",
              " 'pc',\n",
              " 'sc_h',\n",
              " 'sc_w',\n",
              " 'touch_screen',\n",
              " 'wifi',\n",
              " 'px_height',\n",
              " 'px_width',\n",
              " 'ram']"
            ]
          },
          "metadata": {},
          "execution_count": 2431
        }
      ]
    },
    {
      "cell_type": "markdown",
      "source": [
        "# split TRAINING DATA SET and TEST DATA SET"
      ],
      "metadata": {
        "id": "Ph10fNXw-R5J"
      }
    },
    {
      "cell_type": "code",
      "source": [
        "from sklearn.model_selection import train_test_split\n",
        "X_train,X_test,Y_train,Y_test = train_test_split(X,Y,test_size=0.2,random_state = 7, stratify=Y) #test_size=0.2 means 20% testing 80% training"
      ],
      "metadata": {
        "id": "9kuwOg7C-UmG"
      },
      "execution_count": 2432,
      "outputs": []
    },
    {
      "cell_type": "code",
      "source": [
        "print(X_train.shape,Y_train.shape)#shape of training data set ..rows and columns\n",
        "print(X_test.shape,Y_test.shape)#shape of testing data set"
      ],
      "metadata": {
        "colab": {
          "base_uri": "https://localhost:8080/"
        },
        "id": "ODKAoa1e-tr-",
        "outputId": "224fca92-9c9c-4dad-bcf4-b84f596df36b"
      },
      "execution_count": 2433,
      "outputs": [
        {
          "output_type": "stream",
          "name": "stdout",
          "text": [
            "(1456, 13) (1456,)\n",
            "(364, 13) (364,)\n"
          ]
        }
      ]
    },
    {
      "cell_type": "markdown",
      "source": [
        "# choosing the correct k value"
      ],
      "metadata": {
        "id": "aJGgJtizDJcL"
      }
    },
    {
      "cell_type": "markdown",
      "source": [
        "k value is mostly odd since we take majority and less than 20."
      ],
      "metadata": {
        "id": "1ycj2zexDvQh"
      }
    },
    {
      "cell_type": "code",
      "source": [
        "error_rate=[]#empty list\n",
        "K_values = list(range(1,20,2))\n",
        "for i in K_values:\n",
        "  knn_model = KNeighborsClassifier(n_neighbors=i)\n",
        "  knn_model.fit(X_train,Y_train)\n",
        "  prediction_i = knn_model.predict(X_test)\n",
        "  error_rate.append(np.mean(prediction_i != Y_test))"
      ],
      "metadata": {
        "id": "KV04Uv54DNtJ"
      },
      "execution_count": 2434,
      "outputs": []
    },
    {
      "cell_type": "code",
      "source": [
        "K_values"
      ],
      "metadata": {
        "colab": {
          "base_uri": "https://localhost:8080/"
        },
        "id": "uhjUL8e5wPQa",
        "outputId": "af9092b1-f9e8-45bd-cf68-de1b2663f642"
      },
      "execution_count": 2435,
      "outputs": [
        {
          "output_type": "execute_result",
          "data": {
            "text/plain": [
              "[1, 3, 5, 7, 9, 11, 13, 15, 17, 19]"
            ]
          },
          "metadata": {},
          "execution_count": 2435
        }
      ]
    },
    {
      "cell_type": "code",
      "source": [
        "plt.figure(figsize=(10,10))"
      ],
      "metadata": {
        "colab": {
          "base_uri": "https://localhost:8080/",
          "height": 52
        },
        "id": "Q6lsyU91lXLR",
        "outputId": "96ccee19-d83f-4077-d01d-f4deff8a3ae3"
      },
      "execution_count": 2436,
      "outputs": [
        {
          "output_type": "execute_result",
          "data": {
            "text/plain": [
              "<Figure size 720x720 with 0 Axes>"
            ]
          },
          "metadata": {},
          "execution_count": 2436
        },
        {
          "output_type": "display_data",
          "data": {
            "text/plain": [
              "<Figure size 720x720 with 0 Axes>"
            ]
          },
          "metadata": {}
        }
      ]
    },
    {
      "cell_type": "code",
      "source": [
        "error_rate"
      ],
      "metadata": {
        "colab": {
          "base_uri": "https://localhost:8080/"
        },
        "id": "v8FJX1FkyjQt",
        "outputId": "55a77d7f-dc89-4168-8884-4bf826b46558"
      },
      "execution_count": 2437,
      "outputs": [
        {
          "output_type": "execute_result",
          "data": {
            "text/plain": [
              "[0.47527472527472525,\n",
              " 0.5467032967032966,\n",
              " 0.5137362637362637,\n",
              " 0.4945054945054945,\n",
              " 0.49175824175824173,\n",
              " 0.489010989010989,\n",
              " 0.4725274725274725,\n",
              " 0.47527472527472525,\n",
              " 0.5054945054945055,\n",
              " 0.4807692307692308]"
            ]
          },
          "metadata": {},
          "execution_count": 2437
        }
      ]
    },
    {
      "cell_type": "code",
      "source": [
        "plt.plot(K_values,error_rate,color='blue',linestyle='dashed',marker='o',markerfacecolor='green',markersize=8)\n",
        "plt.title('Error rate vs K value')\n",
        "plt.xlabel('K')\n",
        "plt.ylabel('Error Rate')\n",
        "plt.show()"
      ],
      "metadata": {
        "colab": {
          "base_uri": "https://localhost:8080/",
          "height": 301
        },
        "id": "KLl9-H6LluWS",
        "outputId": "877218c5-8714-4f6b-f084-8ff1c9412256"
      },
      "execution_count": 2438,
      "outputs": [
        {
          "output_type": "display_data",
          "data": {
            "text/plain": [
              "<Figure size 432x288 with 1 Axes>"
            ],
            "image/png": "[encoded data removed]"
          },
          "metadata": {
            "needs_background": "light"
          }
        }
      ]
    },
    {
      "cell_type": "code",
      "source": [
        "# determining best k\n",
        "optimal_k = K_values[error_rate.index(min(error_rate))]\n",
        "\n",
        "print(\"The optimal number of neighbors is {}\".format(optimal_k))"
      ],
      "metadata": {
        "colab": {
          "base_uri": "https://localhost:8080/"
        },
        "id": "NNggoGdoAa6O",
        "outputId": "6809ec84-9b18-4b2e-899f-475e60a9cd3f"
      },
      "execution_count": 2439,
      "outputs": [
        {
          "output_type": "stream",
          "name": "stdout",
          "text": [
            "The optimal number of neighbors is 13\n"
          ]
        }
      ]
    },
    {
      "cell_type": "markdown",
      "source": [
        "# use a classifier"
      ],
      "metadata": {
        "id": "Z2hexkxyBaaH"
      }
    },
    {
      "cell_type": "code",
      "source": [
        "from sklearn.neighbors import KNeighborsClassifier\n",
        "from sklearn.metrics import mean_absolute_error"
      ],
      "metadata": {
        "id": "iBPWW1hhAYqD"
      },
      "execution_count": 2440,
      "outputs": []
    },
    {
      "cell_type": "code",
      "source": [
        "knn_model = KNeighborsClassifier(n_neighbors=13)"
      ],
      "metadata": {
        "id": "huZhqKegCj9b"
      },
      "execution_count": 2474,
      "outputs": []
    },
    {
      "cell_type": "code",
      "source": [
        "knn_model.fit(X_train,Y_train)"
      ],
      "metadata": {
        "colab": {
          "base_uri": "https://localhost:8080/"
        },
        "id": "tgKyhXf3DmHf",
        "outputId": "5ba6e2d3-1971-4570-95f1-c0d4aeb3fc97"
      },
      "execution_count": 2475,
      "outputs": [
        {
          "output_type": "execute_result",
          "data": {
            "text/plain": [
              "KNeighborsClassifier(n_neighbors=13)"
            ]
          },
          "metadata": {},
          "execution_count": 2475
        }
      ]
    },
    {
      "cell_type": "code",
      "source": [
        "#NOW WE CAN GET A PREDICTION FOR TEST DATA\n",
        "prediction_y = knn_model.predict(X_test)"
      ],
      "metadata": {
        "id": "hTpojcGcDv1V"
      },
      "execution_count": 2476,
      "outputs": []
    },
    {
      "cell_type": "code",
      "source": [
        "prediction_y"
      ],
      "metadata": {
        "colab": {
          "base_uri": "https://localhost:8080/"
        },
        "id": "LjxtIgSzIG0G",
        "outputId": "3ccd9523-63fb-4173-b3ce-b6b972f7621b"
      },
      "execution_count": 2477,
      "outputs": [
        {
          "output_type": "execute_result",
          "data": {
            "text/plain": [
              "array([0, 1, 2, 3, 0, 0, 1, 1, 2, 1, 0, 0, 3, 0, 1, 0, 2, 2, 0, 3, 2, 2,\n",
              "       0, 1, 0, 1, 1, 1, 0, 0, 0, 3, 3, 0, 3, 0, 2, 1, 2, 2, 2, 2, 0, 3,\n",
              "       2, 0, 3, 0, 1, 0, 3, 2, 0, 1, 2, 0, 1, 1, 1, 1, 2, 2, 3, 0, 0, 3,\n",
              "       2, 1, 0, 3, 1, 1, 0, 0, 1, 3, 1, 3, 3, 1, 3, 1, 2, 0, 0, 1, 3, 1,\n",
              "       2, 1, 1, 0, 1, 1, 0, 0, 0, 1, 3, 0, 0, 0, 2, 0, 2, 3, 3, 1, 0, 2,\n",
              "       0, 3, 0, 1, 1, 2, 0, 0, 1, 3, 0, 1, 0, 1, 2, 0, 3, 2, 0, 1, 1, 0,\n",
              "       0, 2, 2, 3, 2, 1, 3, 2, 0, 3, 3, 3, 0, 0, 2, 2, 2, 1, 1, 0, 3, 2,\n",
              "       2, 2, 3, 2, 1, 0, 3, 3, 3, 2, 0, 1, 0, 2, 2, 3, 0, 3, 3, 3, 1, 0,\n",
              "       0, 0, 3, 3, 1, 2, 1, 2, 1, 1, 2, 3, 0, 2, 2, 3, 2, 0, 0, 1, 1, 2,\n",
              "       0, 0, 1, 0, 0, 2, 1, 2, 1, 1, 2, 2, 3, 1, 2, 2, 2, 0, 0, 1, 0, 1,\n",
              "       1, 2, 1, 1, 2, 0, 2, 1, 0, 1, 0, 2, 3, 0, 2, 1, 0, 0, 1, 0, 2, 1,\n",
              "       2, 3, 2, 3, 2, 1, 2, 1, 1, 0, 0, 2, 1, 2, 2, 0, 3, 0, 0, 0, 2, 1,\n",
              "       1, 1, 1, 3, 2, 1, 1, 1, 3, 1, 1, 2, 2, 1, 1, 2, 1, 2, 0, 1, 3, 0,\n",
              "       2, 3, 2, 2, 1, 2, 2, 0, 0, 0, 3, 3, 1, 0, 2, 0, 2, 0, 0, 1, 2, 0,\n",
              "       0, 1, 1, 0, 0, 1, 3, 0, 2, 1, 2, 0, 3, 0, 0, 3, 2, 0, 1, 3, 1, 1,\n",
              "       1, 2, 2, 2, 2, 3, 1, 3, 2, 3, 3, 2, 0, 3, 0, 3, 0, 1, 2, 0, 2, 0,\n",
              "       2, 3, 2, 1, 2, 0, 1, 3, 0, 0, 3, 2])"
            ]
          },
          "metadata": {},
          "execution_count": 2477
        }
      ]
    },
    {
      "cell_type": "markdown",
      "source": [
        "# check accuracy of above prediction"
      ],
      "metadata": {
        "id": "9lKG5nK3N0jX"
      }
    },
    {
      "cell_type": "code",
      "source": [
        "from sklearn.metrics import accuracy_score\n",
        "experiment_accuracy = accuracy_score(Y_test,prediction_y)*100\n",
        "print('Accuracy score of the KNN model 1 is : ', str(experiment_accuracy))"
      ],
      "metadata": {
        "colab": {
          "base_uri": "https://localhost:8080/"
        },
        "id": "IEwzpFtON5SF",
        "outputId": "8fe52ec7-4049-4b91-af0c-d56c1548f120"
      },
      "execution_count": 2478,
      "outputs": [
        {
          "output_type": "stream",
          "name": "stdout",
          "text": [
            "Accuracy score of the KNN model 1 is :  52.74725274725275\n"
          ]
        }
      ]
    },
    {
      "cell_type": "markdown",
      "source": [
        "# confusion matrix"
      ],
      "metadata": {
        "id": "_kYKYYtqPFj_"
      }
    },
    {
      "cell_type": "code",
      "source": [
        "import matplotlib.pyplot as plt\n",
        "from sklearn.metrics import confusion_matrix\n",
        "import seaborn as sb\n",
        "%matplotlib inline\n",
        "sb.set()\n",
        "get_ipython().run_line_magic('matplotlib','inline')\n",
        "import matplotlib.pyplot as pt\n"
      ],
      "metadata": {
        "id": "THWSB_QPPIBz"
      },
      "execution_count": 2479,
      "outputs": []
    },
    {
      "cell_type": "code",
      "source": [
        "#put y test and predictions to confusion matrics\n",
        "confusionmtrix = confusion_matrix(Y_test,prediction_y)"
      ],
      "metadata": {
        "id": "E8nJt0n1QKMW"
      },
      "execution_count": 2480,
      "outputs": []
    },
    {
      "cell_type": "code",
      "source": [
        "sb.heatmap(confusionmtrix.T, square=True, annot=True, fmt='d', cbar=False)\n",
        "pt.xlabel('true class axis')\n",
        "pt.ylabel('predicted class axis')"
      ],
      "metadata": {
        "colab": {
          "base_uri": "https://localhost:8080/",
          "height": 0
        },
        "id": "1ttVSR0nQPIB",
        "outputId": "f7be4ef4-4a75-46be-a3e5-ad00238c5096"
      },
      "execution_count": 2481,
      "outputs": [
        {
          "output_type": "execute_result",
          "data": {
            "text/plain": [
              "Text(89.18, 0.5, 'predicted class axis')"
            ]
          },
          "metadata": {},
          "execution_count": 2481
        },
        {
          "output_type": "display_data",
          "data": {
            "text/plain": [
              "<Figure size 432x288 with 1 Axes>"
            ],
            "image/png": "[encoded data removed]"
          },
          "metadata": {
            "needs_background": "light"
          }
        }
      ]
    },
    {
      "cell_type": "markdown",
      "source": [
        "# classification report"
      ],
      "metadata": {
        "id": "ALuj8x9JBe6e"
      }
    },
    {
      "cell_type": "code",
      "source": [
        "from sklearn import metrics\n",
        "print(\"\",metrics.classification_report(prediction_y,Y_test,target_names=[\"0\",\"1\",\"2\",\"3\"]))"
      ],
      "metadata": {
        "colab": {
          "base_uri": "https://localhost:8080/"
        },
        "id": "lDh8EqUMCDzJ",
        "outputId": "0516e34c-ee43-4494-e9e2-af410c58c42b"
      },
      "execution_count": 2449,
      "outputs": [
        {
          "output_type": "stream",
          "name": "stdout",
          "text": [
            "               precision    recall  f1-score   support\n",
            "\n",
            "           0       0.71      0.63      0.67       102\n",
            "           1       0.40      0.34      0.37       105\n",
            "           2       0.40      0.39      0.39        93\n",
            "           3       0.53      0.77      0.63        64\n",
            "\n",
            "    accuracy                           0.51       364\n",
            "   macro avg       0.51      0.53      0.51       364\n",
            "weighted avg       0.51      0.51      0.50       364\n",
            "\n"
          ]
        }
      ]
    },
    {
      "cell_type": "markdown",
      "source": [
        "/////////////////////////////////////////////////////////////////////////////////////////////////////////////////////////////////////////////////////////////////////////////////////////////////////////////////"
      ],
      "metadata": {
        "id": "EjWMbJj8Xd2w"
      }
    },
    {
      "cell_type": "markdown",
      "source": [
        "# **Q2 - MLP MODEL**"
      ],
      "metadata": {
        "id": "xzLBTK9Zv5KQ"
      }
    },
    {
      "cell_type": "code",
      "source": [
        "from tensorflow import keras\n",
        "import numpy as np\n",
        "import pandas as pd\n",
        " "
      ],
      "metadata": {
        "id": "Mkc7ZiyE1dVy"
      },
      "execution_count": 2450,
      "outputs": []
    },
    {
      "cell_type": "code",
      "source": [
        "\n",
        "url = 'https://raw.githubusercontent.com/SripaliManimekala/datasets/main/Mobile_Dataset.csv'\n",
        "df = pd.read_csv(url)"
      ],
      "metadata": {
        "id": "2DJziDxS1KLL"
      },
      "execution_count": 2451,
      "outputs": []
    },
    {
      "cell_type": "code",
      "source": [
        "#Changing pandas dataframe to numpy array\n",
        "x = df.iloc[:,:20].values\n",
        "y = df.iloc[:,20:21].values"
      ],
      "metadata": {
        "id": "eu9LJxaZ7jii"
      },
      "execution_count": 2452,
      "outputs": []
    },
    {
      "cell_type": "markdown",
      "source": [
        "# normalizing data"
      ],
      "metadata": {
        "id": "LUqG6JIrXYVe"
      }
    },
    {
      "cell_type": "code",
      "source": [
        "from sklearn.preprocessing import StandardScaler\n",
        "sc = StandardScaler()\n",
        "x = sc.fit_transform(x)"
      ],
      "metadata": {
        "id": "0NpcmxoyXbYS"
      },
      "execution_count": 2453,
      "outputs": []
    },
    {
      "cell_type": "code",
      "source": [
        "x"
      ],
      "metadata": {
        "colab": {
          "base_uri": "https://localhost:8080/"
        },
        "id": "fCisiZ5UYC1C",
        "outputId": "cd26079d-d9b3-4815-ee78-39aede00d684"
      },
      "execution_count": 2454,
      "outputs": [
        {
          "output_type": "execute_result",
          "data": {
            "text/plain": [
              "array([[-0.90259726, -0.9900495 ,  0.83077942, ..., -1.78686097,\n",
              "        -1.00601811,  0.98609664],\n",
              "       [-0.49513857,  1.0100505 , -1.2530642 , ...,  0.55964063,\n",
              "         0.99401789, -1.01409939],\n",
              "       [-1.5376865 ,  1.0100505 , -1.2530642 , ...,  0.55964063,\n",
              "         0.99401789, -1.01409939],\n",
              "       ...,\n",
              "       [ 1.53077336, -0.9900495 , -0.76274805, ...,  0.55964063,\n",
              "         0.99401789, -1.01409939],\n",
              "       [ 0.62252745, -0.9900495 , -0.76274805, ...,  0.55964063,\n",
              "         0.99401789,  0.98609664],\n",
              "       [-1.65833069,  1.0100505 ,  0.58562134, ...,  0.55964063,\n",
              "         0.99401789,  0.98609664]])"
            ]
          },
          "metadata": {},
          "execution_count": 2454
        }
      ]
    },
    {
      "cell_type": "code",
      "source": [
        "from sklearn.preprocessing import OneHotEncoder\n",
        "oh_encode = OneHotEncoder(handle_unknown='ignore')\n",
        "y_one_hot = oh_encode.fit_transform(y).toarray()\n",
        "\n",
        "print(y[0],\"==>\" ,y_one_hot[0])"
      ],
      "metadata": {
        "colab": {
          "base_uri": "https://localhost:8080/"
        },
        "id": "okO5LLdcYFxs",
        "outputId": "4f79f912-23d7-40a9-c498-2a698f221cd9"
      },
      "execution_count": 2455,
      "outputs": [
        {
          "output_type": "stream",
          "name": "stdout",
          "text": [
            "[1] ==> [0. 1. 0. 0.]\n"
          ]
        }
      ]
    },
    {
      "cell_type": "code",
      "source": [
        "y_one_hot"
      ],
      "metadata": {
        "colab": {
          "base_uri": "https://localhost:8080/"
        },
        "id": "NTJWYdl-Zgj5",
        "outputId": "23bdd7f9-0b37-4320-ed38-4ba63cb792a9"
      },
      "execution_count": 2456,
      "outputs": [
        {
          "output_type": "execute_result",
          "data": {
            "text/plain": [
              "array([[0., 1., 0., 0.],\n",
              "       [0., 0., 1., 0.],\n",
              "       [0., 0., 1., 0.],\n",
              "       ...,\n",
              "       [0., 0., 0., 1.],\n",
              "       [1., 0., 0., 0.],\n",
              "       [0., 0., 0., 1.]])"
            ]
          },
          "metadata": {},
          "execution_count": 2456
        }
      ]
    },
    {
      "cell_type": "code",
      "source": [
        "y"
      ],
      "metadata": {
        "colab": {
          "base_uri": "https://localhost:8080/"
        },
        "id": "H7fnXhltsDhi",
        "outputId": "460d3d58-dd82-43b9-bd05-e86246770712"
      },
      "execution_count": 2457,
      "outputs": [
        {
          "output_type": "execute_result",
          "data": {
            "text/plain": [
              "array([[1],\n",
              "       [2],\n",
              "       [2],\n",
              "       ...,\n",
              "       [3],\n",
              "       [0],\n",
              "       [3]])"
            ]
          },
          "metadata": {},
          "execution_count": 2457
        }
      ]
    },
    {
      "cell_type": "code",
      "source": [
        "x_train,x_test,y_train,y_test = train_test_split(x,y_one_hot,test_size = 0.2)"
      ],
      "metadata": {
        "id": "luxzIff6Z95t"
      },
      "execution_count": 2458,
      "outputs": []
    },
    {
      "cell_type": "markdown",
      "source": [
        "# Building the MLP model"
      ],
      "metadata": {
        "id": "mTUq3RqqaSpF"
      }
    },
    {
      "cell_type": "code",
      "source": [
        "from keras.models import Sequential\n",
        "from keras.layers import Dense, Activation\n",
        "\n",
        "model = Sequential()\n",
        "model.add(Dense(16, input_dim=20, activation='relu'))\n",
        "#model.add(Dense(12, activation='relu'))\n",
        "model.add(Dense(4, activation='softmax'))\n",
        "model.summary()"
      ],
      "metadata": {
        "colab": {
          "base_uri": "https://localhost:8080/"
        },
        "id": "XoekuE-5aWCk",
        "outputId": "b767871c-4a14-4703-a52d-3b533ea167fc"
      },
      "execution_count": 2459,
      "outputs": [
        {
          "output_type": "stream",
          "name": "stdout",
          "text": [
            "Model: \"sequential_30\"\n",
            "_________________________________________________________________\n",
            " Layer (type)                Output Shape              Param #   \n",
            "=================================================================\n",
            " dense_72 (Dense)            (None, 16)                336       \n",
            "                                                                 \n",
            " dense_73 (Dense)            (None, 4)                 68        \n",
            "                                                                 \n",
            "=================================================================\n",
            "Total params: 404\n",
            "Trainable params: 404\n",
            "Non-trainable params: 0\n",
            "_________________________________________________________________\n"
          ]
        }
      ]
    },
    {
      "cell_type": "markdown",
      "source": [
        "# Compiling the model"
      ],
      "metadata": {
        "id": "0h7sgrP9bipt"
      }
    },
    {
      "cell_type": "code",
      "source": [
        "#model.compile(loss='categorical_crossentropy', optimizer='adam', metrics=['accuracy'])\n",
        "#from tensorflow.keras.optimizers import SGD\n",
        "\n",
        "OPTIMIZER = keras.optimizers.SGD(learning_rate=0.1)\n",
        "model.compile(optimizer=OPTIMIZER, loss='categorical_crossentropy', metrics=['accuracy'])"
      ],
      "metadata": {
        "id": "ufcvloKwbj8O"
      },
      "execution_count": 2460,
      "outputs": []
    },
    {
      "cell_type": "markdown",
      "source": [
        "# training model"
      ],
      "metadata": {
        "id": "i5-w2j5XcZNU"
      }
    },
    {
      "cell_type": "code",
      "source": [
        "BATCH_SIZE = 128\n",
        "EPOCHES = 100\n",
        "VERBOSE = 1\n",
        "VALIDATION_SPLIT = 0.2\n",
        "\n",
        "model_history = model.fit(x=x_train, y=y_train, batch_size=BATCH_SIZE, \n",
        "                          epochs=EPOCHES, verbose=VERBOSE, validation_split=VALIDATION_SPLIT)"
      ],
      "metadata": {
        "colab": {
          "base_uri": "https://localhost:8080/"
        },
        "id": "d-8hGksbcenA",
        "outputId": "4da1007b-7ddf-4f72-b157-fdb62bca1b85"
      },
      "execution_count": 2461,
      "outputs": [
        {
          "output_type": "stream",
          "name": "stdout",
          "text": [
            "Epoch 1/100\n",
            "10/10 [==============================] - 0s 20ms/step - loss: 1.5190 - accuracy: 0.2773 - val_loss: 1.3977 - val_accuracy: 0.3156\n",
            "Epoch 2/100\n",
            "10/10 [==============================] - 0s 4ms/step - loss: 1.3429 - accuracy: 0.3367 - val_loss: 1.3037 - val_accuracy: 0.3656\n",
            "Epoch 3/100\n",
            "10/10 [==============================] - 0s 4ms/step - loss: 1.2526 - accuracy: 0.4187 - val_loss: 1.2341 - val_accuracy: 0.4313\n",
            "Epoch 4/100\n",
            "10/10 [==============================] - 0s 6ms/step - loss: 1.1829 - accuracy: 0.4773 - val_loss: 1.1678 - val_accuracy: 0.4844\n",
            "Epoch 5/100\n",
            "10/10 [==============================] - 0s 6ms/step - loss: 1.1161 - accuracy: 0.5180 - val_loss: 1.1032 - val_accuracy: 0.5031\n",
            "Epoch 6/100\n",
            "10/10 [==============================] - 0s 4ms/step - loss: 1.0511 - accuracy: 0.5578 - val_loss: 1.0393 - val_accuracy: 0.5500\n",
            "Epoch 7/100\n",
            "10/10 [==============================] - 0s 4ms/step - loss: 0.9879 - accuracy: 0.5867 - val_loss: 0.9762 - val_accuracy: 0.5688\n",
            "Epoch 8/100\n",
            "10/10 [==============================] - 0s 4ms/step - loss: 0.9273 - accuracy: 0.6219 - val_loss: 0.9182 - val_accuracy: 0.6281\n",
            "Epoch 9/100\n",
            "10/10 [==============================] - 0s 4ms/step - loss: 0.8700 - accuracy: 0.6547 - val_loss: 0.8633 - val_accuracy: 0.6875\n",
            "Epoch 10/100\n",
            "10/10 [==============================] - 0s 4ms/step - loss: 0.8156 - accuracy: 0.6844 - val_loss: 0.8118 - val_accuracy: 0.7250\n",
            "Epoch 11/100\n",
            "10/10 [==============================] - 0s 4ms/step - loss: 0.7663 - accuracy: 0.7039 - val_loss: 0.7654 - val_accuracy: 0.7312\n",
            "Epoch 12/100\n",
            "10/10 [==============================] - 0s 4ms/step - loss: 0.7216 - accuracy: 0.7391 - val_loss: 0.7236 - val_accuracy: 0.7375\n",
            "Epoch 13/100\n",
            "10/10 [==============================] - 0s 5ms/step - loss: 0.6809 - accuracy: 0.7664 - val_loss: 0.6833 - val_accuracy: 0.7656\n",
            "Epoch 14/100\n",
            "10/10 [==============================] - 0s 4ms/step - loss: 0.6441 - accuracy: 0.7875 - val_loss: 0.6489 - val_accuracy: 0.7937\n",
            "Epoch 15/100\n",
            "10/10 [==============================] - 0s 4ms/step - loss: 0.6111 - accuracy: 0.8055 - val_loss: 0.6183 - val_accuracy: 0.8031\n",
            "Epoch 16/100\n",
            "10/10 [==============================] - 0s 4ms/step - loss: 0.5804 - accuracy: 0.8227 - val_loss: 0.5922 - val_accuracy: 0.8188\n",
            "Epoch 17/100\n",
            "10/10 [==============================] - 0s 4ms/step - loss: 0.5532 - accuracy: 0.8453 - val_loss: 0.5668 - val_accuracy: 0.8406\n",
            "Epoch 18/100\n",
            "10/10 [==============================] - 0s 4ms/step - loss: 0.5294 - accuracy: 0.8438 - val_loss: 0.5432 - val_accuracy: 0.8406\n",
            "Epoch 19/100\n",
            "10/10 [==============================] - 0s 4ms/step - loss: 0.5066 - accuracy: 0.8570 - val_loss: 0.5230 - val_accuracy: 0.8500\n",
            "Epoch 20/100\n",
            "10/10 [==============================] - 0s 4ms/step - loss: 0.4863 - accuracy: 0.8680 - val_loss: 0.5052 - val_accuracy: 0.8562\n",
            "Epoch 21/100\n",
            "10/10 [==============================] - 0s 4ms/step - loss: 0.4675 - accuracy: 0.8813 - val_loss: 0.4876 - val_accuracy: 0.8625\n",
            "Epoch 22/100\n",
            "10/10 [==============================] - 0s 4ms/step - loss: 0.4502 - accuracy: 0.8852 - val_loss: 0.4727 - val_accuracy: 0.8625\n",
            "Epoch 23/100\n",
            "10/10 [==============================] - 0s 6ms/step - loss: 0.4335 - accuracy: 0.8938 - val_loss: 0.4586 - val_accuracy: 0.8719\n",
            "Epoch 24/100\n",
            "10/10 [==============================] - 0s 6ms/step - loss: 0.4187 - accuracy: 0.9070 - val_loss: 0.4469 - val_accuracy: 0.8719\n",
            "Epoch 25/100\n",
            "10/10 [==============================] - 0s 4ms/step - loss: 0.4048 - accuracy: 0.9031 - val_loss: 0.4331 - val_accuracy: 0.8813\n",
            "Epoch 26/100\n",
            "10/10 [==============================] - 0s 4ms/step - loss: 0.3916 - accuracy: 0.9109 - val_loss: 0.4231 - val_accuracy: 0.8813\n",
            "Epoch 27/100\n",
            "10/10 [==============================] - 0s 4ms/step - loss: 0.3798 - accuracy: 0.9141 - val_loss: 0.4107 - val_accuracy: 0.8813\n",
            "Epoch 28/100\n",
            "10/10 [==============================] - 0s 4ms/step - loss: 0.3680 - accuracy: 0.9156 - val_loss: 0.4009 - val_accuracy: 0.8906\n",
            "Epoch 29/100\n",
            "10/10 [==============================] - 0s 4ms/step - loss: 0.3571 - accuracy: 0.9211 - val_loss: 0.3904 - val_accuracy: 0.8906\n",
            "Epoch 30/100\n",
            "10/10 [==============================] - 0s 4ms/step - loss: 0.3475 - accuracy: 0.9234 - val_loss: 0.3820 - val_accuracy: 0.8969\n",
            "Epoch 31/100\n",
            "10/10 [==============================] - 0s 5ms/step - loss: 0.3376 - accuracy: 0.9242 - val_loss: 0.3732 - val_accuracy: 0.9125\n",
            "Epoch 32/100\n",
            "10/10 [==============================] - 0s 6ms/step - loss: 0.3292 - accuracy: 0.9312 - val_loss: 0.3660 - val_accuracy: 0.9062\n",
            "Epoch 33/100\n",
            "10/10 [==============================] - 0s 4ms/step - loss: 0.3202 - accuracy: 0.9352 - val_loss: 0.3593 - val_accuracy: 0.9156\n",
            "Epoch 34/100\n",
            "10/10 [==============================] - 0s 5ms/step - loss: 0.3119 - accuracy: 0.9352 - val_loss: 0.3533 - val_accuracy: 0.9094\n",
            "Epoch 35/100\n",
            "10/10 [==============================] - 0s 4ms/step - loss: 0.3041 - accuracy: 0.9383 - val_loss: 0.3446 - val_accuracy: 0.9219\n",
            "Epoch 36/100\n",
            "10/10 [==============================] - 0s 4ms/step - loss: 0.2969 - accuracy: 0.9445 - val_loss: 0.3386 - val_accuracy: 0.9219\n",
            "Epoch 37/100\n",
            "10/10 [==============================] - 0s 4ms/step - loss: 0.2901 - accuracy: 0.9414 - val_loss: 0.3332 - val_accuracy: 0.9250\n",
            "Epoch 38/100\n",
            "10/10 [==============================] - 0s 5ms/step - loss: 0.2832 - accuracy: 0.9430 - val_loss: 0.3265 - val_accuracy: 0.9281\n",
            "Epoch 39/100\n",
            "10/10 [==============================] - 0s 4ms/step - loss: 0.2773 - accuracy: 0.9406 - val_loss: 0.3215 - val_accuracy: 0.9281\n",
            "Epoch 40/100\n",
            "10/10 [==============================] - 0s 4ms/step - loss: 0.2711 - accuracy: 0.9438 - val_loss: 0.3169 - val_accuracy: 0.9281\n",
            "Epoch 41/100\n",
            "10/10 [==============================] - 0s 6ms/step - loss: 0.2654 - accuracy: 0.9469 - val_loss: 0.3109 - val_accuracy: 0.9281\n",
            "Epoch 42/100\n",
            "10/10 [==============================] - 0s 4ms/step - loss: 0.2599 - accuracy: 0.9477 - val_loss: 0.3081 - val_accuracy: 0.9281\n",
            "Epoch 43/100\n",
            "10/10 [==============================] - 0s 4ms/step - loss: 0.2547 - accuracy: 0.9484 - val_loss: 0.3027 - val_accuracy: 0.9281\n",
            "Epoch 44/100\n",
            "10/10 [==============================] - 0s 6ms/step - loss: 0.2495 - accuracy: 0.9500 - val_loss: 0.2979 - val_accuracy: 0.9281\n",
            "Epoch 45/100\n",
            "10/10 [==============================] - 0s 4ms/step - loss: 0.2447 - accuracy: 0.9570 - val_loss: 0.2959 - val_accuracy: 0.9281\n",
            "Epoch 46/100\n",
            "10/10 [==============================] - 0s 4ms/step - loss: 0.2402 - accuracy: 0.9570 - val_loss: 0.2905 - val_accuracy: 0.9281\n",
            "Epoch 47/100\n",
            "10/10 [==============================] - 0s 4ms/step - loss: 0.2355 - accuracy: 0.9594 - val_loss: 0.2863 - val_accuracy: 0.9281\n",
            "Epoch 48/100\n",
            "10/10 [==============================] - 0s 4ms/step - loss: 0.2315 - accuracy: 0.9555 - val_loss: 0.2829 - val_accuracy: 0.9281\n",
            "Epoch 49/100\n",
            "10/10 [==============================] - 0s 6ms/step - loss: 0.2273 - accuracy: 0.9570 - val_loss: 0.2790 - val_accuracy: 0.9281\n",
            "Epoch 50/100\n",
            "10/10 [==============================] - 0s 4ms/step - loss: 0.2236 - accuracy: 0.9570 - val_loss: 0.2759 - val_accuracy: 0.9281\n",
            "Epoch 51/100\n",
            "10/10 [==============================] - 0s 4ms/step - loss: 0.2196 - accuracy: 0.9594 - val_loss: 0.2733 - val_accuracy: 0.9281\n",
            "Epoch 52/100\n",
            "10/10 [==============================] - 0s 4ms/step - loss: 0.2158 - accuracy: 0.9586 - val_loss: 0.2695 - val_accuracy: 0.9281\n",
            "Epoch 53/100\n",
            "10/10 [==============================] - 0s 4ms/step - loss: 0.2123 - accuracy: 0.9609 - val_loss: 0.2663 - val_accuracy: 0.9281\n",
            "Epoch 54/100\n",
            "10/10 [==============================] - 0s 5ms/step - loss: 0.2092 - accuracy: 0.9617 - val_loss: 0.2625 - val_accuracy: 0.9312\n",
            "Epoch 55/100\n",
            "10/10 [==============================] - 0s 4ms/step - loss: 0.2057 - accuracy: 0.9617 - val_loss: 0.2595 - val_accuracy: 0.9281\n",
            "Epoch 56/100\n",
            "10/10 [==============================] - 0s 4ms/step - loss: 0.2020 - accuracy: 0.9641 - val_loss: 0.2571 - val_accuracy: 0.9281\n",
            "Epoch 57/100\n",
            "10/10 [==============================] - 0s 4ms/step - loss: 0.1986 - accuracy: 0.9633 - val_loss: 0.2554 - val_accuracy: 0.9281\n",
            "Epoch 58/100\n",
            "10/10 [==============================] - 0s 4ms/step - loss: 0.1958 - accuracy: 0.9625 - val_loss: 0.2527 - val_accuracy: 0.9312\n",
            "Epoch 59/100\n",
            "10/10 [==============================] - 0s 4ms/step - loss: 0.1927 - accuracy: 0.9641 - val_loss: 0.2503 - val_accuracy: 0.9312\n",
            "Epoch 60/100\n",
            "10/10 [==============================] - 0s 4ms/step - loss: 0.1899 - accuracy: 0.9648 - val_loss: 0.2468 - val_accuracy: 0.9312\n",
            "Epoch 61/100\n",
            "10/10 [==============================] - 0s 6ms/step - loss: 0.1872 - accuracy: 0.9625 - val_loss: 0.2441 - val_accuracy: 0.9312\n",
            "Epoch 62/100\n",
            "10/10 [==============================] - 0s 4ms/step - loss: 0.1842 - accuracy: 0.9664 - val_loss: 0.2421 - val_accuracy: 0.9312\n",
            "Epoch 63/100\n",
            "10/10 [==============================] - 0s 6ms/step - loss: 0.1817 - accuracy: 0.9680 - val_loss: 0.2398 - val_accuracy: 0.9312\n",
            "Epoch 64/100\n",
            "10/10 [==============================] - 0s 6ms/step - loss: 0.1789 - accuracy: 0.9680 - val_loss: 0.2364 - val_accuracy: 0.9312\n",
            "Epoch 65/100\n",
            "10/10 [==============================] - 0s 4ms/step - loss: 0.1767 - accuracy: 0.9664 - val_loss: 0.2332 - val_accuracy: 0.9312\n",
            "Epoch 66/100\n",
            "10/10 [==============================] - 0s 4ms/step - loss: 0.1742 - accuracy: 0.9688 - val_loss: 0.2324 - val_accuracy: 0.9312\n",
            "Epoch 67/100\n",
            "10/10 [==============================] - 0s 4ms/step - loss: 0.1714 - accuracy: 0.9695 - val_loss: 0.2294 - val_accuracy: 0.9312\n",
            "Epoch 68/100\n",
            "10/10 [==============================] - 0s 6ms/step - loss: 0.1695 - accuracy: 0.9680 - val_loss: 0.2291 - val_accuracy: 0.9281\n",
            "Epoch 69/100\n",
            "10/10 [==============================] - 0s 6ms/step - loss: 0.1674 - accuracy: 0.9695 - val_loss: 0.2257 - val_accuracy: 0.9312\n",
            "Epoch 70/100\n",
            "10/10 [==============================] - 0s 4ms/step - loss: 0.1648 - accuracy: 0.9711 - val_loss: 0.2237 - val_accuracy: 0.9312\n",
            "Epoch 71/100\n",
            "10/10 [==============================] - 0s 4ms/step - loss: 0.1629 - accuracy: 0.9711 - val_loss: 0.2216 - val_accuracy: 0.9312\n",
            "Epoch 72/100\n",
            "10/10 [==============================] - 0s 4ms/step - loss: 0.1608 - accuracy: 0.9727 - val_loss: 0.2201 - val_accuracy: 0.9312\n",
            "Epoch 73/100\n",
            "10/10 [==============================] - 0s 6ms/step - loss: 0.1588 - accuracy: 0.9711 - val_loss: 0.2185 - val_accuracy: 0.9281\n",
            "Epoch 74/100\n",
            "10/10 [==============================] - 0s 6ms/step - loss: 0.1575 - accuracy: 0.9727 - val_loss: 0.2164 - val_accuracy: 0.9281\n",
            "Epoch 75/100\n",
            "10/10 [==============================] - 0s 4ms/step - loss: 0.1551 - accuracy: 0.9703 - val_loss: 0.2141 - val_accuracy: 0.9281\n",
            "Epoch 76/100\n",
            "10/10 [==============================] - 0s 6ms/step - loss: 0.1530 - accuracy: 0.9727 - val_loss: 0.2134 - val_accuracy: 0.9281\n",
            "Epoch 77/100\n",
            "10/10 [==============================] - 0s 6ms/step - loss: 0.1509 - accuracy: 0.9734 - val_loss: 0.2113 - val_accuracy: 0.9281\n",
            "Epoch 78/100\n",
            "10/10 [==============================] - 0s 4ms/step - loss: 0.1494 - accuracy: 0.9742 - val_loss: 0.2094 - val_accuracy: 0.9281\n",
            "Epoch 79/100\n",
            "10/10 [==============================] - 0s 4ms/step - loss: 0.1478 - accuracy: 0.9742 - val_loss: 0.2079 - val_accuracy: 0.9281\n",
            "Epoch 80/100\n",
            "10/10 [==============================] - 0s 4ms/step - loss: 0.1463 - accuracy: 0.9742 - val_loss: 0.2061 - val_accuracy: 0.9281\n",
            "Epoch 81/100\n",
            "10/10 [==============================] - 0s 4ms/step - loss: 0.1448 - accuracy: 0.9742 - val_loss: 0.2048 - val_accuracy: 0.9281\n",
            "Epoch 82/100\n",
            "10/10 [==============================] - 0s 4ms/step - loss: 0.1428 - accuracy: 0.9734 - val_loss: 0.2028 - val_accuracy: 0.9312\n",
            "Epoch 83/100\n",
            "10/10 [==============================] - 0s 4ms/step - loss: 0.1419 - accuracy: 0.9742 - val_loss: 0.2020 - val_accuracy: 0.9312\n",
            "Epoch 84/100\n",
            "10/10 [==============================] - 0s 4ms/step - loss: 0.1402 - accuracy: 0.9758 - val_loss: 0.2017 - val_accuracy: 0.9281\n",
            "Epoch 85/100\n",
            "10/10 [==============================] - 0s 6ms/step - loss: 0.1388 - accuracy: 0.9750 - val_loss: 0.2008 - val_accuracy: 0.9281\n",
            "Epoch 86/100\n",
            "10/10 [==============================] - 0s 6ms/step - loss: 0.1374 - accuracy: 0.9734 - val_loss: 0.1985 - val_accuracy: 0.9281\n",
            "Epoch 87/100\n",
            "10/10 [==============================] - 0s 5ms/step - loss: 0.1358 - accuracy: 0.9750 - val_loss: 0.1971 - val_accuracy: 0.9312\n",
            "Epoch 88/100\n",
            "10/10 [==============================] - 0s 4ms/step - loss: 0.1348 - accuracy: 0.9758 - val_loss: 0.1961 - val_accuracy: 0.9312\n",
            "Epoch 89/100\n",
            "10/10 [==============================] - 0s 4ms/step - loss: 0.1333 - accuracy: 0.9758 - val_loss: 0.1942 - val_accuracy: 0.9312\n",
            "Epoch 90/100\n",
            "10/10 [==============================] - 0s 4ms/step - loss: 0.1322 - accuracy: 0.9766 - val_loss: 0.1923 - val_accuracy: 0.9312\n",
            "Epoch 91/100\n",
            "10/10 [==============================] - 0s 4ms/step - loss: 0.1305 - accuracy: 0.9781 - val_loss: 0.1929 - val_accuracy: 0.9281\n",
            "Epoch 92/100\n",
            "10/10 [==============================] - 0s 6ms/step - loss: 0.1294 - accuracy: 0.9773 - val_loss: 0.1915 - val_accuracy: 0.9375\n",
            "Epoch 93/100\n",
            "10/10 [==============================] - 0s 4ms/step - loss: 0.1281 - accuracy: 0.9781 - val_loss: 0.1902 - val_accuracy: 0.9375\n",
            "Epoch 94/100\n",
            "10/10 [==============================] - 0s 4ms/step - loss: 0.1269 - accuracy: 0.9758 - val_loss: 0.1895 - val_accuracy: 0.9344\n",
            "Epoch 95/100\n",
            "10/10 [==============================] - 0s 5ms/step - loss: 0.1261 - accuracy: 0.9773 - val_loss: 0.1877 - val_accuracy: 0.9375\n",
            "Epoch 96/100\n",
            "10/10 [==============================] - 0s 6ms/step - loss: 0.1245 - accuracy: 0.9789 - val_loss: 0.1868 - val_accuracy: 0.9344\n",
            "Epoch 97/100\n",
            "10/10 [==============================] - 0s 4ms/step - loss: 0.1235 - accuracy: 0.9797 - val_loss: 0.1860 - val_accuracy: 0.9344\n",
            "Epoch 98/100\n",
            "10/10 [==============================] - 0s 4ms/step - loss: 0.1227 - accuracy: 0.9773 - val_loss: 0.1844 - val_accuracy: 0.9312\n",
            "Epoch 99/100\n",
            "10/10 [==============================] - 0s 6ms/step - loss: 0.1212 - accuracy: 0.9781 - val_loss: 0.1845 - val_accuracy: 0.9344\n",
            "Epoch 100/100\n",
            "10/10 [==============================] - 0s 6ms/step - loss: 0.1207 - accuracy: 0.9773 - val_loss: 0.1833 - val_accuracy: 0.9312\n"
          ]
        }
      ]
    },
    {
      "cell_type": "markdown",
      "source": [
        "# evaluating the model"
      ],
      "metadata": {
        "id": "FXlEG43yf0-f"
      }
    },
    {
      "cell_type": "code",
      "source": [
        "score = model.evaluate(x_test, y_test, verbose=2) \n",
        "print('Test score:', score[0]*100) \n",
        "print('Test accuracy:', score[1]*100)"
      ],
      "metadata": {
        "colab": {
          "base_uri": "https://localhost:8080/"
        },
        "id": "Zolx_SRTgy5w",
        "outputId": "2a6e18bd-4391-490a-96ff-6e6c300c8b45"
      },
      "execution_count": 2462,
      "outputs": [
        {
          "output_type": "stream",
          "name": "stdout",
          "text": [
            "13/13 - 0s - loss: 0.1783 - accuracy: 0.9350 - 28ms/epoch - 2ms/step\n",
            "Test score: 17.827680706977844\n",
            "Test accuracy: 93.50000023841858\n"
          ]
        }
      ]
    },
    {
      "cell_type": "markdown",
      "source": [
        "# predictions"
      ],
      "metadata": {
        "id": "6-s0C53NfVkI"
      }
    },
    {
      "cell_type": "code",
      "source": [
        "y_probability = model.predict(x_test)\n",
        "y_classes = y_probability.argmax(axis=-1)\n",
        "print (\"True class = \", y_test[0], \" Predicted class = \", y_classes[0])"
      ],
      "metadata": {
        "colab": {
          "base_uri": "https://localhost:8080/"
        },
        "id": "7HOHUJM0pfMV",
        "outputId": "fa80fc36-3bd6-4019-b795-e60c356c6421"
      },
      "execution_count": 2463,
      "outputs": [
        {
          "output_type": "stream",
          "name": "stdout",
          "text": [
            "13/13 [==============================] - 0s 1ms/step\n",
            "True class =  [0. 0. 0. 1.]  Predicted class =  3\n"
          ]
        }
      ]
    },
    {
      "cell_type": "markdown",
      "source": [
        "# training analysis"
      ],
      "metadata": {
        "id": "WkNdtlWNuQv6"
      }
    },
    {
      "cell_type": "code",
      "source": [
        "y_pred = model.predict(x_test)\n",
        "#Converting predictions to label\n",
        "pred = list()\n",
        "for i in range(len(y_pred)):\n",
        "    pred.append(np.argmax(y_pred[i]))\n",
        "#Converting one hot encoded test label to label\n",
        "test = list()\n",
        "for i in range(len(y_test)):\n",
        "    test.append(np.argmax(y_test[i]))"
      ],
      "metadata": {
        "colab": {
          "base_uri": "https://localhost:8080/"
        },
        "id": "69dzJHDGv9sZ",
        "outputId": "586b074e-273e-486e-c825-3b4043790c96"
      },
      "execution_count": 2464,
      "outputs": [
        {
          "output_type": "stream",
          "name": "stdout",
          "text": [
            "13/13 [==============================] - 0s 1ms/step\n"
          ]
        }
      ]
    },
    {
      "cell_type": "code",
      "source": [
        "print(test)\n",
        "print(pred)"
      ],
      "metadata": {
        "colab": {
          "base_uri": "https://localhost:8080/"
        },
        "id": "sw38KCwRwCar",
        "outputId": "4ccd4755-ca1f-4284-fc0b-8f5ab6630ae6"
      },
      "execution_count": 2465,
      "outputs": [
        {
          "output_type": "stream",
          "name": "stdout",
          "text": [
            "[3, 0, 2, 2, 1, 3, 2, 2, 3, 0, 3, 0, 0, 1, 1, 1, 2, 3, 3, 1, 1, 3, 1, 3, 1, 2, 1, 1, 0, 0, 1, 2, 2, 2, 2, 2, 3, 0, 2, 2, 1, 0, 0, 3, 0, 1, 0, 0, 1, 1, 2, 0, 0, 0, 3, 0, 1, 3, 1, 2, 2, 0, 2, 3, 1, 2, 2, 3, 0, 1, 1, 0, 0, 3, 3, 0, 0, 3, 3, 3, 0, 0, 3, 3, 3, 2, 1, 3, 0, 2, 2, 3, 2, 0, 2, 2, 1, 3, 2, 3, 1, 3, 2, 3, 3, 0, 2, 0, 0, 2, 0, 3, 3, 3, 3, 1, 1, 3, 1, 1, 2, 2, 2, 3, 1, 3, 2, 0, 2, 0, 3, 3, 3, 3, 0, 2, 1, 2, 2, 0, 3, 1, 2, 0, 2, 0, 0, 0, 2, 0, 0, 3, 2, 2, 3, 3, 1, 2, 3, 2, 2, 0, 0, 2, 0, 2, 0, 2, 2, 1, 1, 1, 0, 2, 0, 2, 2, 3, 0, 1, 0, 3, 2, 2, 0, 2, 2, 2, 1, 1, 2, 0, 2, 1, 0, 2, 1, 0, 3, 1, 1, 3, 3, 3, 1, 2, 0, 0, 1, 2, 3, 0, 2, 1, 3, 2, 3, 1, 1, 2, 2, 1, 0, 0, 3, 1, 1, 3, 1, 1, 3, 2, 1, 1, 2, 1, 2, 0, 1, 1, 3, 1, 3, 1, 3, 3, 1, 3, 2, 3, 2, 2, 1, 2, 0, 3, 2, 1, 3, 3, 3, 2, 0, 2, 0, 2, 3, 2, 2, 0, 0, 3, 0, 3, 3, 1, 3, 0, 2, 1, 1, 1, 3, 3, 3, 0, 0, 3, 2, 1, 0, 3, 1, 1, 0, 0, 0, 0, 0, 0, 0, 1, 0, 1, 0, 1, 3, 3, 2, 0, 2, 1, 1, 2, 2, 3, 0, 3, 0, 1, 1, 2, 1, 3, 3, 0, 3, 3, 3, 1, 2, 1, 1, 3, 2, 0, 2, 0, 3, 2, 1, 3, 0, 2, 1, 1, 0, 2, 0, 3, 3, 2, 0, 1, 0, 3, 3, 3, 0, 1, 0, 2, 0, 0, 0, 3, 1, 2, 3, 1, 1, 0, 3, 2, 1, 1, 2, 1, 3, 1, 3, 3, 2, 1, 0, 3, 0, 3, 0, 0, 3, 1, 1, 1, 0, 3, 0, 3, 1, 3]\n",
            "[3, 0, 2, 2, 1, 3, 2, 2, 3, 0, 3, 0, 0, 1, 1, 1, 2, 3, 3, 1, 1, 3, 1, 3, 1, 3, 1, 1, 0, 0, 1, 2, 2, 2, 2, 2, 3, 0, 2, 3, 1, 0, 0, 3, 0, 0, 0, 0, 1, 1, 2, 0, 0, 0, 3, 0, 2, 2, 1, 2, 2, 0, 2, 2, 1, 2, 2, 3, 0, 2, 1, 1, 0, 3, 3, 0, 0, 3, 3, 3, 0, 0, 3, 3, 3, 2, 0, 3, 0, 2, 2, 3, 2, 0, 2, 2, 1, 3, 2, 3, 1, 3, 2, 3, 3, 0, 2, 0, 0, 2, 0, 3, 3, 3, 3, 1, 1, 3, 1, 1, 2, 2, 2, 3, 1, 3, 2, 0, 2, 0, 3, 3, 3, 3, 0, 2, 1, 2, 2, 0, 3, 1, 3, 0, 2, 0, 0, 0, 2, 0, 0, 3, 2, 2, 3, 3, 1, 2, 2, 1, 2, 0, 0, 2, 0, 2, 0, 2, 3, 1, 1, 0, 0, 2, 0, 2, 2, 2, 0, 1, 0, 3, 2, 2, 0, 3, 2, 2, 1, 1, 2, 0, 3, 1, 0, 2, 1, 0, 3, 1, 1, 3, 3, 3, 1, 2, 0, 0, 1, 2, 3, 0, 2, 1, 3, 2, 3, 1, 1, 2, 2, 1, 0, 0, 3, 1, 1, 3, 1, 1, 3, 2, 1, 1, 2, 1, 2, 0, 1, 1, 3, 1, 3, 1, 3, 3, 1, 3, 2, 3, 2, 2, 1, 2, 0, 3, 2, 1, 3, 3, 3, 2, 0, 2, 0, 2, 3, 2, 2, 0, 1, 3, 0, 3, 3, 1, 3, 0, 2, 1, 1, 1, 3, 3, 3, 0, 0, 3, 2, 1, 0, 3, 1, 1, 0, 0, 0, 0, 0, 0, 0, 1, 0, 1, 0, 1, 3, 2, 2, 0, 2, 1, 1, 2, 2, 3, 0, 3, 0, 1, 0, 2, 1, 3, 3, 0, 2, 3, 3, 1, 1, 0, 1, 3, 2, 0, 2, 0, 3, 2, 1, 3, 0, 2, 2, 2, 0, 2, 0, 3, 3, 2, 0, 1, 0, 3, 3, 3, 0, 1, 0, 2, 0, 0, 0, 3, 1, 2, 2, 1, 1, 0, 3, 2, 1, 1, 2, 1, 3, 1, 3, 3, 2, 1, 0, 3, 0, 3, 0, 0, 3, 1, 1, 1, 0, 3, 0, 3, 1, 3]\n"
          ]
        }
      ]
    },
    {
      "cell_type": "code",
      "source": [
        "from sklearn.metrics import classification_report\n",
        "print(classification_report(test,pred))"
      ],
      "metadata": {
        "colab": {
          "base_uri": "https://localhost:8080/"
        },
        "id": "YdYexv8gwJ-v",
        "outputId": "74e47a49-6303-4feb-bb33-0408aa7c929f"
      },
      "execution_count": 2466,
      "outputs": [
        {
          "output_type": "stream",
          "name": "stdout",
          "text": [
            "              precision    recall  f1-score   support\n",
            "\n",
            "           0       0.95      0.98      0.97       100\n",
            "           1       0.96      0.91      0.93        96\n",
            "           2       0.89      0.92      0.90        98\n",
            "           3       0.94      0.93      0.94       106\n",
            "\n",
            "    accuracy                           0.94       400\n",
            "   macro avg       0.94      0.93      0.93       400\n",
            "weighted avg       0.94      0.94      0.93       400\n",
            "\n"
          ]
        }
      ]
    },
    {
      "cell_type": "markdown",
      "source": [
        "# Plotting the model performances"
      ],
      "metadata": {
        "id": "Uf63nvb7iXM1"
      }
    },
    {
      "cell_type": "code",
      "source": [
        "import matplotlib.pyplot as plt\n",
        "%matplotlib inline\n",
        "\n",
        "def plot_history(network_history):\n",
        "    plt.figure()\n",
        "    plt.xlabel('Epochs')\n",
        "    plt.ylabel('Loss')\n",
        "    plt.plot(network_history.history['loss'])\n",
        "    plt.plot(network_history.history['val_loss'])\n",
        "    plt.legend(['Training', 'Validation'])\n",
        "\n",
        "    plt.figure()\n",
        "    plt.xlabel('Epochs')\n",
        "    plt.ylabel('Accuracy')\n",
        "    plt.plot(network_history.history['accuracy'])\n",
        "    plt.plot(network_history.history['val_accuracy'])\n",
        "    plt.legend(['Training', 'Validation'], loc='lower right')\n",
        "    plt.show()\n",
        "\n",
        "plot_history(model_history)"
      ],
      "metadata": {
        "colab": {
          "base_uri": "https://localhost:8080/",
          "height": 553
        },
        "id": "gveazpKwxfTe",
        "outputId": "2c0151f6-4850-44c1-cd3f-d4a1c47fd45f"
      },
      "execution_count": 2467,
      "outputs": [
        {
          "output_type": "display_data",
          "data": {
            "text/plain": [
              "<Figure size 432x288 with 1 Axes>"
            ],
            "image/png": "[encoded data removed]"
          },
          "metadata": {
            "needs_background": "light"
          }
        },
        {
          "output_type": "display_data",
          "data": {
            "text/plain": [
              "<Figure size 432x288 with 1 Axes>"
            ],
            "image/png": "[encoded data removed]"
          },
          "metadata": {
            "needs_background": "light"
          }
        }
      ]
    },
    {
      "cell_type": "markdown",
      "source": [
        "# Saving the trained model and its weights"
      ],
      "metadata": {
        "id": "xWtE1IKu7DbE"
      }
    },
    {
      "cell_type": "code",
      "source": [
        "json_string = model.to_json() # as json \n",
        "open('mlp_mnist_v1_model.json', 'w').write(json_string)\n",
        "# save the weights in h5 format \n",
        "model.save_weights('mlp_mnist_v1_wts.h5')"
      ],
      "metadata": {
        "id": "niAo3r9C7FD3"
      },
      "execution_count": 2470,
      "outputs": []
    },
    {
      "cell_type": "markdown",
      "source": [
        "# Retrieving a trained model and its weights"
      ],
      "metadata": {
        "id": "k2Wo1BqA76Yy"
      }
    },
    {
      "cell_type": "code",
      "source": [
        "from keras.models import model_from_json\n",
        "model1 = model_from_json(open('mlp_mnist_v1_model.json').read())\n",
        "model1.load_weights('mlp_mnist_v1_wts.h5')\n",
        "model1.summary()\n",
        "model1.compile(optimizer='sgd', loss='categorical_crossentropy', metrics=['accuracy'])\n",
        "score = model1.evaluate(x_test, y_test, verbose=0) \n",
        "print('Test score:', score[0]) \n",
        "print('Test accuracy:', score[1]*100)\n",
        "\n",
        "y_probability = model.predict(x_test)\n",
        "y_classes = y_probability.argmax(axis=-1)\n",
        "print (\"True class = \", y_test[0], \"Predicted class = \", y_classes[0])"
      ],
      "metadata": {
        "colab": {
          "base_uri": "https://localhost:8080/"
        },
        "id": "Qp30qu7w749_",
        "outputId": "c1ff7677-6ee3-492a-c15c-931fe2eac1ce"
      },
      "execution_count": 2472,
      "outputs": [
        {
          "output_type": "stream",
          "name": "stdout",
          "text": [
            "Model: \"sequential_30\"\n",
            "_________________________________________________________________\n",
            " Layer (type)                Output Shape              Param #   \n",
            "=================================================================\n",
            " dense_72 (Dense)            (None, 16)                336       \n",
            "                                                                 \n",
            " dense_73 (Dense)            (None, 4)                 68        \n",
            "                                                                 \n",
            "=================================================================\n",
            "Total params: 404\n",
            "Trainable params: 404\n",
            "Non-trainable params: 0\n",
            "_________________________________________________________________\n",
            "Test score: 0.17827680706977844\n",
            "Test accuracy: 93.50000023841858\n",
            "13/13 [==============================] - 0s 1ms/step\n",
            "True class =  [0. 0. 0. 1.] Predicted class =  3\n"
          ]
        }
      ]
    },
    {
      "cell_type": "markdown",
      "source": [
        "# compare two models"
      ],
      "metadata": {
        "id": "PgiApeamMfWL"
      }
    },
    {
      "cell_type": "code",
      "source": [
        "import matplotlib.pyplot as plt"
      ],
      "metadata": {
        "id": "CJ80ETctMhLt"
      },
      "execution_count": 2468,
      "outputs": []
    },
    {
      "cell_type": "code",
      "source": [
        "models = ['KNN','MLP']\n",
        "acc_scores = [0.5274, 0.9350]\n",
        "\n",
        "plt.bar(models, acc_scores, color=['lightblue', 'pink'])\n",
        "plt.ylabel(\"accuracy scores\")\n",
        "plt.title(\"Which model is the most accurate?\")\n",
        "plt.show()"
      ],
      "metadata": {
        "colab": {
          "base_uri": "https://localhost:8080/",
          "height": 284
        },
        "id": "P3vZafVqMlUR",
        "outputId": "3d1bb66d-05ea-42b2-fdc5-62efd4683b8f"
      },
      "execution_count": 2482,
      "outputs": [
        {
          "output_type": "display_data",
          "data": {
            "text/plain": [
              "<Figure size 432x288 with 1 Axes>"
            ],
            "image/png": "[encoded data removed]"
          },
          "metadata": {
            "needs_background": "light"
          }
        }
      ]
    }
  ]
}